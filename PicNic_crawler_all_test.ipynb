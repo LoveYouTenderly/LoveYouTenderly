{
  "nbformat": 4,
  "nbformat_minor": 0,
  "metadata": {
    "colab": {
      "provenance": [],
      "collapsed_sections": [
        "G5wWwlU94agJ"
      ],
      "authorship_tag": "ABX9TyNPMYjytUbF/uMckhxxO5rY",
      "include_colab_link": true
    },
    "kernelspec": {
      "name": "python3",
      "display_name": "Python 3"
    },
    "language_info": {
      "name": "python"
    }
  },
  "cells": [
    {
      "cell_type": "markdown",
      "metadata": {
        "id": "view-in-github",
        "colab_type": "text"
      },
      "source": [
        "<a href=\"https://colab.research.google.com/github/LoveYouTenderly/LoveYouTenderly/blob/main/PicNic_crawler_all_test.ipynb\" target=\"_parent\"><img src=\"https://colab.research.google.com/assets/colab-badge.svg\" alt=\"Open In Colab\"/></a>"
      ]
    },
    {
      "cell_type": "code",
      "metadata": {
        "id": "NZItVMJhWC7p"
      },
      "source": [
        "#https://kainrypus.booth.pm/items?page=1"
      ],
      "execution_count": null,
      "outputs": []
    },
    {
      "cell_type": "markdown",
      "metadata": {
        "id": "G5wWwlU94agJ"
      },
      "source": [
        "## Base download"
      ]
    },
    {
      "cell_type": "code",
      "metadata": {
        "colab": {
          "base_uri": "https://localhost:8080/"
        },
        "id": "w6_nTjoKWPtM",
        "outputId": "1dbc47d0-c64c-4455-a857-b092a40da973"
      },
      "source": [
        "!pip install selenium"
      ],
      "execution_count": null,
      "outputs": [
        {
          "output_type": "stream",
          "name": "stdout",
          "text": [
            "Collecting selenium\n",
            "  Downloading selenium-3.141.0-py2.py3-none-any.whl (904 kB)\n",
            "\u001b[K     |████████████████████████████████| 904 kB 3.1 MB/s \n",
            "\u001b[?25hRequirement already satisfied: urllib3 in /usr/local/lib/python3.7/dist-packages (from selenium) (1.24.3)\n",
            "Installing collected packages: selenium\n",
            "Successfully installed selenium-3.141.0\n"
          ]
        }
      ]
    },
    {
      "cell_type": "code",
      "metadata": {
        "colab": {
          "base_uri": "https://localhost:8080/"
        },
        "id": "TTJS0UlwWWNs",
        "outputId": "272801f9-e237-4ab8-d753-3cb769b05844"
      },
      "source": [
        "!apt-get update # to update ubuntu to correctly run apt install\n",
        "!apt install chromium-chromedriver\n",
        "!cp /usr/lib/chromium-browser/chromedriver /usr/bin"
      ],
      "execution_count": null,
      "outputs": [
        {
          "output_type": "stream",
          "name": "stdout",
          "text": [
            "Get:1 https://cloud.r-project.org/bin/linux/ubuntu bionic-cran40/ InRelease [3,626 B]\n",
            "Ign:2 https://developer.download.nvidia.com/compute/cuda/repos/ubuntu1804/x86_64  InRelease\n",
            "Get:3 http://security.ubuntu.com/ubuntu bionic-security InRelease [88.7 kB]\n",
            "Hit:4 http://archive.ubuntu.com/ubuntu bionic InRelease\n",
            "Hit:5 http://ppa.launchpad.net/c2d4u.team/c2d4u4.0+/ubuntu bionic InRelease\n",
            "Ign:6 https://developer.download.nvidia.com/compute/machine-learning/repos/ubuntu1804/x86_64  InRelease\n",
            "Get:7 https://developer.download.nvidia.com/compute/cuda/repos/ubuntu1804/x86_64  Release [696 B]\n",
            "Hit:8 https://developer.download.nvidia.com/compute/machine-learning/repos/ubuntu1804/x86_64  Release\n",
            "Get:9 http://archive.ubuntu.com/ubuntu bionic-updates InRelease [88.7 kB]\n",
            "Get:10 https://developer.download.nvidia.com/compute/cuda/repos/ubuntu1804/x86_64  Release.gpg [836 B]\n",
            "Hit:11 http://ppa.launchpad.net/cran/libgit2/ubuntu bionic InRelease\n",
            "Hit:12 http://ppa.launchpad.net/deadsnakes/ppa/ubuntu bionic InRelease\n",
            "Get:13 http://archive.ubuntu.com/ubuntu bionic-backports InRelease [74.6 kB]\n",
            "Hit:14 http://ppa.launchpad.net/graphics-drivers/ppa/ubuntu bionic InRelease\n",
            "Get:16 https://developer.download.nvidia.com/compute/cuda/repos/ubuntu1804/x86_64  Packages [700 kB]\n",
            "Fetched 957 kB in 3s (301 kB/s)\n",
            "Reading package lists... Done\n",
            "Reading package lists... Done\n",
            "Building dependency tree       \n",
            "Reading state information... Done\n",
            "The following additional packages will be installed:\n",
            "  chromium-browser chromium-browser-l10n chromium-codecs-ffmpeg-extra\n",
            "Suggested packages:\n",
            "  webaccounts-chromium-extension unity-chromium-extension\n",
            "The following NEW packages will be installed:\n",
            "  chromium-browser chromium-browser-l10n chromium-chromedriver\n",
            "  chromium-codecs-ffmpeg-extra\n",
            "0 upgraded, 4 newly installed, 0 to remove and 40 not upgraded.\n",
            "Need to get 91.8 MB of archives.\n",
            "After this operation, 315 MB of additional disk space will be used.\n",
            "Get:1 http://archive.ubuntu.com/ubuntu bionic-updates/universe amd64 chromium-codecs-ffmpeg-extra amd64 92.0.4515.159-0ubuntu0.18.04.1 [1,124 kB]\n",
            "Get:2 http://archive.ubuntu.com/ubuntu bionic-updates/universe amd64 chromium-browser amd64 92.0.4515.159-0ubuntu0.18.04.1 [81.7 MB]\n",
            "Get:3 http://archive.ubuntu.com/ubuntu bionic-updates/universe amd64 chromium-browser-l10n all 92.0.4515.159-0ubuntu0.18.04.1 [4,026 kB]\n",
            "Get:4 http://archive.ubuntu.com/ubuntu bionic-updates/universe amd64 chromium-chromedriver amd64 92.0.4515.159-0ubuntu0.18.04.1 [4,902 kB]\n",
            "Fetched 91.8 MB in 4s (22.7 MB/s)\n",
            "Selecting previously unselected package chromium-codecs-ffmpeg-extra.\n",
            "(Reading database ... 148492 files and directories currently installed.)\n",
            "Preparing to unpack .../chromium-codecs-ffmpeg-extra_92.0.4515.159-0ubuntu0.18.04.1_amd64.deb ...\n",
            "Unpacking chromium-codecs-ffmpeg-extra (92.0.4515.159-0ubuntu0.18.04.1) ...\n",
            "Selecting previously unselected package chromium-browser.\n",
            "Preparing to unpack .../chromium-browser_92.0.4515.159-0ubuntu0.18.04.1_amd64.deb ...\n",
            "Unpacking chromium-browser (92.0.4515.159-0ubuntu0.18.04.1) ...\n",
            "Selecting previously unselected package chromium-browser-l10n.\n",
            "Preparing to unpack .../chromium-browser-l10n_92.0.4515.159-0ubuntu0.18.04.1_all.deb ...\n",
            "Unpacking chromium-browser-l10n (92.0.4515.159-0ubuntu0.18.04.1) ...\n",
            "Selecting previously unselected package chromium-chromedriver.\n",
            "Preparing to unpack .../chromium-chromedriver_92.0.4515.159-0ubuntu0.18.04.1_amd64.deb ...\n",
            "Unpacking chromium-chromedriver (92.0.4515.159-0ubuntu0.18.04.1) ...\n",
            "Setting up chromium-codecs-ffmpeg-extra (92.0.4515.159-0ubuntu0.18.04.1) ...\n",
            "Setting up chromium-browser (92.0.4515.159-0ubuntu0.18.04.1) ...\n",
            "update-alternatives: using /usr/bin/chromium-browser to provide /usr/bin/x-www-browser (x-www-browser) in auto mode\n",
            "update-alternatives: using /usr/bin/chromium-browser to provide /usr/bin/gnome-www-browser (gnome-www-browser) in auto mode\n",
            "Setting up chromium-chromedriver (92.0.4515.159-0ubuntu0.18.04.1) ...\n",
            "Setting up chromium-browser-l10n (92.0.4515.159-0ubuntu0.18.04.1) ...\n",
            "Processing triggers for man-db (2.8.3-2ubuntu0.1) ...\n",
            "Processing triggers for hicolor-icon-theme (0.17-2) ...\n",
            "Processing triggers for mime-support (3.60ubuntu1) ...\n",
            "Processing triggers for libc-bin (2.27-3ubuntu1.2) ...\n",
            "/sbin/ldconfig.real: /usr/local/lib/python3.7/dist-packages/ideep4py/lib/libmkldnn.so.0 is not a symbolic link\n",
            "\n",
            "cp: '/usr/lib/chromium-browser/chromedriver' and '/usr/bin/chromedriver' are the same file\n"
          ]
        }
      ]
    },
    {
      "cell_type": "code",
      "metadata": {
        "id": "YVWf_XCiWXrU"
      },
      "source": [
        "from selenium import webdriver\n",
        "from selenium.webdriver.common.keys import Keys\n",
        "from selenium.webdriver import ActionChains\n",
        "import time\n",
        "import urllib.request"
      ],
      "execution_count": null,
      "outputs": []
    },
    {
      "cell_type": "code",
      "metadata": {
        "colab": {
          "base_uri": "https://localhost:8080/"
        },
        "id": "DyVfSvTFWb_D",
        "outputId": "e7fc721e-2ba7-4ff9-e7d1-f806074d9f30"
      },
      "source": [
        "import sys\n",
        "sys.path.insert(0,'/usr/lib/chromium-browser/chromedriver')\n",
        "from selenium import webdriver\n",
        "chrome_options = webdriver.ChromeOptions()\n",
        "chrome_options.add_argument('--headless')\n",
        "chrome_options.add_argument('--no-sandbox')\n",
        "chrome_options.add_argument('--disable-dev-shm-usage')\n",
        "wd = webdriver.Chrome('chromedriver',chrome_options=chrome_options)"
      ],
      "execution_count": null,
      "outputs": [
        {
          "output_type": "stream",
          "name": "stderr",
          "text": [
            "/usr/local/lib/python3.7/dist-packages/ipykernel_launcher.py:8: DeprecationWarning: use options instead of chrome_options\n",
            "  \n"
          ]
        }
      ]
    },
    {
      "cell_type": "code",
      "metadata": {
        "colab": {
          "base_uri": "https://localhost:8080/"
        },
        "id": "sCTyqGkKWdcm",
        "outputId": "ea6fac6a-b015-47de-c409-0aeb16172693"
      },
      "source": [
        "driver =webdriver.Chrome('chromedriver',chrome_options=chrome_options)"
      ],
      "execution_count": null,
      "outputs": [
        {
          "output_type": "stream",
          "name": "stderr",
          "text": [
            "/usr/local/lib/python3.7/dist-packages/ipykernel_launcher.py:1: DeprecationWarning: use options instead of chrome_options\n",
            "  \"\"\"Entry point for launching an IPython kernel.\n"
          ]
        }
      ]
    },
    {
      "cell_type": "code",
      "metadata": {
        "colab": {
          "base_uri": "https://localhost:8080/"
        },
        "id": "9MnJqY-J8cge",
        "outputId": "26027054-5f04-487a-b4ef-b253a77b8c4d"
      },
      "source": [
        "!pip install googletrans==3.1.0a0"
      ],
      "execution_count": null,
      "outputs": [
        {
          "output_type": "stream",
          "name": "stdout",
          "text": [
            "Collecting googletrans==3.1.0a0\n",
            "  Downloading googletrans-3.1.0a0.tar.gz (19 kB)\n",
            "Collecting httpx==0.13.3\n",
            "  Downloading httpx-0.13.3-py3-none-any.whl (55 kB)\n",
            "\u001b[K     |████████████████████████████████| 55 kB 1.4 MB/s \n",
            "\u001b[?25hRequirement already satisfied: idna==2.* in /usr/local/lib/python3.7/dist-packages (from httpx==0.13.3->googletrans==3.1.0a0) (2.10)\n",
            "Requirement already satisfied: certifi in /usr/local/lib/python3.7/dist-packages (from httpx==0.13.3->googletrans==3.1.0a0) (2021.5.30)\n",
            "Collecting httpcore==0.9.*\n",
            "  Downloading httpcore-0.9.1-py3-none-any.whl (42 kB)\n",
            "\u001b[K     |████████████████████████████████| 42 kB 958 kB/s \n",
            "\u001b[?25hCollecting rfc3986<2,>=1.3\n",
            "  Downloading rfc3986-1.5.0-py2.py3-none-any.whl (31 kB)\n",
            "Collecting hstspreload\n",
            "  Downloading hstspreload-2021.9.1-py3-none-any.whl (1.2 MB)\n",
            "\u001b[K     |████████████████████████████████| 1.2 MB 5.3 MB/s \n",
            "\u001b[?25hRequirement already satisfied: chardet==3.* in /usr/local/lib/python3.7/dist-packages (from httpx==0.13.3->googletrans==3.1.0a0) (3.0.4)\n",
            "Collecting sniffio\n",
            "  Downloading sniffio-1.2.0-py3-none-any.whl (10 kB)\n",
            "Collecting h2==3.*\n",
            "  Downloading h2-3.2.0-py2.py3-none-any.whl (65 kB)\n",
            "\u001b[K     |████████████████████████████████| 65 kB 3.1 MB/s \n",
            "\u001b[?25hCollecting h11<0.10,>=0.8\n",
            "  Downloading h11-0.9.0-py2.py3-none-any.whl (53 kB)\n",
            "\u001b[K     |████████████████████████████████| 53 kB 1.8 MB/s \n",
            "\u001b[?25hCollecting hyperframe<6,>=5.2.0\n",
            "  Downloading hyperframe-5.2.0-py2.py3-none-any.whl (12 kB)\n",
            "Collecting hpack<4,>=3.0\n",
            "  Downloading hpack-3.0.0-py2.py3-none-any.whl (38 kB)\n",
            "Building wheels for collected packages: googletrans\n",
            "  Building wheel for googletrans (setup.py) ... \u001b[?25l\u001b[?25hdone\n",
            "  Created wheel for googletrans: filename=googletrans-3.1.0a0-py3-none-any.whl size=16367 sha256=9c5f96ab934a7f9540ed3548f8684a5ee1bae8665cd74fd4cbc4f6b15aba8fca\n",
            "  Stored in directory: /root/.cache/pip/wheels/0c/be/fe/93a6a40ffe386e16089e44dad9018ebab9dc4cb9eb7eab65ae\n",
            "Successfully built googletrans\n",
            "Installing collected packages: hyperframe, hpack, sniffio, h2, h11, rfc3986, httpcore, hstspreload, httpx, googletrans\n",
            "Successfully installed googletrans-3.1.0a0 h11-0.9.0 h2-3.2.0 hpack-3.0.0 hstspreload-2021.9.1 httpcore-0.9.1 httpx-0.13.3 hyperframe-5.2.0 rfc3986-1.5.0 sniffio-1.2.0\n"
          ]
        }
      ]
    },
    {
      "cell_type": "code",
      "metadata": {
        "id": "5mDg8Qzv7IyF"
      },
      "source": [
        "from googletrans import Translator, constants\n",
        "from pprint import pprint"
      ],
      "execution_count": null,
      "outputs": []
    },
    {
      "cell_type": "code",
      "metadata": {
        "id": "rGo0D-oX8cjg"
      },
      "source": [
        "translator = Translator()"
      ],
      "execution_count": null,
      "outputs": []
    },
    {
      "cell_type": "code",
      "metadata": {
        "colab": {
          "base_uri": "https://localhost:8080/"
        },
        "id": "BjIphnQCAnT7",
        "outputId": "85e76144-79df-4b66-d34c-a196d6288be5"
      },
      "source": [
        "#image popularity\n",
        "!git clone https://github.com/dingkeyan93/Intrinsic-Image-Popularity"
      ],
      "execution_count": null,
      "outputs": [
        {
          "output_type": "stream",
          "name": "stdout",
          "text": [
            "Cloning into 'Intrinsic-Image-Popularity'...\n",
            "remote: Enumerating objects: 193, done.\u001b[K\n",
            "remote: Total 193 (delta 0), reused 0 (delta 0), pack-reused 193\u001b[K\n",
            "Receiving objects: 100% (193/193), 209.13 MiB | 30.46 MiB/s, done.\n",
            "Resolving deltas: 100% (60/60), done.\n"
          ]
        }
      ]
    },
    {
      "cell_type": "code",
      "metadata": {
        "colab": {
          "base_uri": "https://localhost:8080/"
        },
        "id": "lEwwF7_SAupJ",
        "outputId": "c54edb13-0179-40ee-9056-0ac74b2e214e"
      },
      "source": [
        "cd /content/Intrinsic-Image-Popularity/images"
      ],
      "execution_count": null,
      "outputs": [
        {
          "output_type": "stream",
          "name": "stdout",
          "text": [
            "/content/Intrinsic-Image-Popularity/images\n"
          ]
        }
      ]
    },
    {
      "cell_type": "code",
      "metadata": {
        "colab": {
          "base_uri": "https://localhost:8080/"
        },
        "id": "w5rjvuKrAvCz",
        "outputId": "e5a201f8-c2b6-4db8-aa05-70d1f30f5c87"
      },
      "source": [
        "!wget https://www.todayonline.com/sites/default/files/styles/new_app_article_detail/public/photos/43_images/20190705_maggielindemann.png?itok=DUb8jQkw"
      ],
      "execution_count": null,
      "outputs": [
        {
          "output_type": "stream",
          "name": "stdout",
          "text": [
            "--2021-09-03 19:17:04--  https://www.todayonline.com/sites/default/files/styles/new_app_article_detail/public/photos/43_images/20190705_maggielindemann.png?itok=DUb8jQkw\n",
            "Resolving www.todayonline.com (www.todayonline.com)... 23.59.116.60\n",
            "Connecting to www.todayonline.com (www.todayonline.com)|23.59.116.60|:443... connected.\n",
            "HTTP request sent, awaiting response... 200 OK\n",
            "Length: 1216440 (1.2M) [image/png]\n",
            "Saving to: ‘20190705_maggielindemann.png?itok=DUb8jQkw’\n",
            "\n",
            "20190705_maggielind 100%[===================>]   1.16M   993KB/s    in 1.2s    \n",
            "\n",
            "2021-09-03 19:17:07 (993 KB/s) - ‘20190705_maggielindemann.png?itok=DUb8jQkw’ saved [1216440/1216440]\n",
            "\n"
          ]
        }
      ]
    },
    {
      "cell_type": "markdown",
      "metadata": {
        "id": "Kf8MjLqUBkJH"
      },
      "source": [
        "## create df"
      ]
    },
    {
      "cell_type": "code",
      "metadata": {
        "id": "OypPd3JRCv8R"
      },
      "source": [
        "import pandas as pd"
      ],
      "execution_count": null,
      "outputs": []
    },
    {
      "cell_type": "code",
      "metadata": {
        "id": "BaWyTl9fBnBO"
      },
      "source": [
        "list_title = []\n",
        "list_titrans = []\n",
        "list_catagory = []\n",
        "list_cost = []\n",
        "list_likes = []\n",
        "list_marketvalue = []\n",
        "list_innerlink = []\n",
        "list_image1 = []\n",
        "list_image2 = []\n",
        "list_image3 = []\n",
        "list_image4 = []\n",
        "list_image5 = []\n",
        "list_image_pop1 = []\n",
        "list_image_pop2 = []\n",
        "list_image_pop3 = []\n",
        "list_image_pop4 = []\n",
        "list_image_pop5 = []\n",
        "list_description = []\n",
        "list_trans = []\n",
        "list_positivity = []\n",
        "list_negativity = []\n",
        "list_distance = []"
      ],
      "execution_count": null,
      "outputs": []
    },
    {
      "cell_type": "code",
      "metadata": {
        "id": "3mq75Ur0C5II"
      },
      "source": [
        "TotalList = [list_title, list_catagory, list_cost, list_likes, list_innerlink, list_image1, list_image2, list_image3, list_image4, list_image5, list_image_pop1, list_image_pop2, list_image_pop3, list_image_pop4, list_image_pop5, list_description, list_trans, list_positivity, list_negativity, list_distance, list_titrans, list_marketvalue]"
      ],
      "execution_count": null,
      "outputs": []
    },
    {
      "cell_type": "code",
      "metadata": {
        "id": "s03CBdbYC0UA"
      },
      "source": [
        "df = pd.DataFrame ({'Title': TotalList[0],'TitleTranslation': TotalList[20], 'Catagory': TotalList[1], 'Cost': TotalList[2], 'Likes': TotalList[3], 'MarketValue': TotalList[21], 'Innerlink': TotalList[4], 'Image1': TotalList[5], 'Image2': TotalList[6], 'Image3': TotalList[7], 'image4': TotalList[8], 'image5': TotalList[9], 'Image_pop1': TotalList[10], 'Image_pop2': TotalList[11], 'Image_pop3': TotalList[12], 'image_pop4': TotalList[13], 'image_pop5': TotalList[14], 'Description': TotalList[15], 'Translation': TotalList[16], 'Positivity': TotalList[17], 'Negativity': TotalList[18], 'Distance': TotalList[19]})"
      ],
      "execution_count": null,
      "outputs": []
    },
    {
      "cell_type": "code",
      "metadata": {
        "colab": {
          "base_uri": "https://localhost:8080/",
          "height": 49
        },
        "id": "DR0glVfGFU2w",
        "outputId": "babdb81e-d42f-4c74-8b00-ec97453c60c3"
      },
      "source": [
        "df"
      ],
      "execution_count": null,
      "outputs": [
        {
          "output_type": "execute_result",
          "data": {
            "text/html": [
              "<div>\n",
              "<style scoped>\n",
              "    .dataframe tbody tr th:only-of-type {\n",
              "        vertical-align: middle;\n",
              "    }\n",
              "\n",
              "    .dataframe tbody tr th {\n",
              "        vertical-align: top;\n",
              "    }\n",
              "\n",
              "    .dataframe thead th {\n",
              "        text-align: right;\n",
              "    }\n",
              "</style>\n",
              "<table border=\"1\" class=\"dataframe\">\n",
              "  <thead>\n",
              "    <tr style=\"text-align: right;\">\n",
              "      <th></th>\n",
              "      <th>Title</th>\n",
              "      <th>TitleTranslation</th>\n",
              "      <th>Catagory</th>\n",
              "      <th>Cost</th>\n",
              "      <th>Likes</th>\n",
              "      <th>MarketValue</th>\n",
              "      <th>Innerlink</th>\n",
              "      <th>Image1</th>\n",
              "      <th>Image2</th>\n",
              "      <th>Image3</th>\n",
              "      <th>image4</th>\n",
              "      <th>Image_pop1</th>\n",
              "      <th>Image_pop2</th>\n",
              "      <th>Image_pop3</th>\n",
              "      <th>image_pop4</th>\n",
              "      <th>Description</th>\n",
              "      <th>Translation</th>\n",
              "      <th>Positivity</th>\n",
              "      <th>Negativity</th>\n",
              "      <th>Distance</th>\n",
              "    </tr>\n",
              "  </thead>\n",
              "  <tbody>\n",
              "  </tbody>\n",
              "</table>\n",
              "</div>"
            ],
            "text/plain": [
              "Empty DataFrame\n",
              "Columns: [Title, TitleTranslation, Catagory, Cost, Likes, MarketValue, Innerlink, Image1, Image2, Image3, image4, Image_pop1, Image_pop2, Image_pop3, image_pop4, Description, Translation, Positivity, Negativity, Distance]\n",
              "Index: []"
            ]
          },
          "metadata": {},
          "execution_count": 17
        }
      ]
    },
    {
      "cell_type": "markdown",
      "metadata": {
        "id": "yR8Uq1Qg42N6"
      },
      "source": [
        "## **Page crawl**"
      ]
    },
    {
      "cell_type": "code",
      "metadata": {
        "colab": {
          "base_uri": "https://localhost:8080/"
        },
        "id": "0DYwIEDHFjPK",
        "outputId": "878af13b-2a47-41a9-fb7b-ceb2379c4084"
      },
      "source": [
        "for page_num in range(1,8):\n",
        "  # driver.get(\"https://kainrypus.booth.pm/items?page=\" + str(page_num))\n",
        "  print(\"https://kainrypus.booth.pm/items?page=\" + str(page_num))"
      ],
      "execution_count": null,
      "outputs": [
        {
          "output_type": "stream",
          "name": "stdout",
          "text": [
            "https://kainrypus.booth.pm/items?page=1\n",
            "https://kainrypus.booth.pm/items?page=2\n",
            "https://kainrypus.booth.pm/items?page=3\n",
            "https://kainrypus.booth.pm/items?page=4\n",
            "https://kainrypus.booth.pm/items?page=5\n",
            "https://kainrypus.booth.pm/items?page=6\n",
            "https://kainrypus.booth.pm/items?page=7\n"
          ]
        }
      ]
    },
    {
      "cell_type": "code",
      "metadata": {
        "id": "Cd1-q0C7jVvI"
      },
      "source": [
        "list_title = []\n",
        "list_titrans = []\n",
        "list_catagory = []\n",
        "list_cost = []\n",
        "list_likes = []\n",
        "list_innerlink = []"
      ],
      "execution_count": null,
      "outputs": []
    },
    {
      "cell_type": "code",
      "metadata": {
        "colab": {
          "base_uri": "https://localhost:8080/"
        },
        "id": "pPSxPXHykPVk",
        "outputId": "767d3c53-b7c3-47a0-9037-ee4368e6290c"
      },
      "source": [
        "len(list_innerlink)"
      ],
      "execution_count": null,
      "outputs": [
        {
          "output_type": "execute_result",
          "data": {
            "text/plain": [
              "18"
            ]
          },
          "metadata": {},
          "execution_count": 61
        }
      ]
    },
    {
      "cell_type": "code",
      "metadata": {
        "id": "VrIUvDP7lJBS"
      },
      "source": [
        "temp_titrans = translator.translate(temp_title, dest='en').text"
      ],
      "execution_count": null,
      "outputs": []
    },
    {
      "cell_type": "code",
      "metadata": {
        "colab": {
          "base_uri": "https://localhost:8080/",
          "height": 36
        },
        "id": "9tfnd6t4lL2w",
        "outputId": "e7afba73-5033-415f-947d-4b21b839f4c2"
      },
      "source": [
        "temp_titrans"
      ],
      "execution_count": null,
      "outputs": [
        {
          "output_type": "execute_result",
          "data": {
            "application/vnd.google.colaboratory.intrinsic+json": {
              "type": "string"
            },
            "text/plain": [
              "'[3Dモデル]マント-ロイヤル(Cloak-Royal)'"
            ]
          },
          "metadata": {},
          "execution_count": 93
        }
      ]
    },
    {
      "cell_type": "code",
      "metadata": {
        "colab": {
          "base_uri": "https://localhost:8080/"
        },
        "id": "L_kHPPRDFu72",
        "outputId": "5082129e-d13d-4800-a1b7-4e812ec27162"
      },
      "source": [
        "for item_num in range(1,19):\n",
        "  temp_title = driver.find_element_by_xpath('//*[@id=\"js-shop\"]/section/div[1]/ul/li['+ str(item_num)+']/div[2]/h2/a').text\n",
        "  list_title.append(temp_title)\n",
        "  # print(temp_title)\n",
        "  translator = Translator()\n",
        "  temp_titrans = translator.translate(temp_title, dest='en').text\n",
        "  list_titrans.append(temp_titrans)\n",
        "  # print(temp_titrans)\n",
        "  temp_catagory = driver.find_element_by_xpath('//*[@id=\"js-shop\"]/section/div[1]/ul/li['+ str(item_num)+']/div[2]/div[1]').text\n",
        "  list_catagory.append(temp_catagory)\n",
        "  # print(temp_catagory)\n",
        "  temp_price = driver.find_element_by_xpath('//*[@id=\"js-shop\"]/section/div[1]/ul/li[' + str(item_num) + ']/div[2]/div[2]/div[1]').text.replace(' JPY','').replace(',','')\n",
        "  list_cost.append(temp_price)\n",
        "  # print(temp_price)\n",
        "  temp_like = driver.find_element_by_xpath('//*[@id=\"js-shop\"]/section/div[1]/ul/li[' + str(item_num) + ']/div[2]/div[2]/div[2]/div/div/a/div/span').text\n",
        "  list_likes.append(temp_like)\n",
        "  # print(temp_like)\n",
        "  temp_marketvalue = int(temp_price) * int(temp_like)\n",
        "  list_marketvalue.append(temp_marketvalue)\n",
        "  # print(temp_marketvalue)\n",
        "  temp_innerlink = driver.find_element_by_xpath('//*[@id=\"js-shop\"]/section/div[1]/ul/li[' + str(item_num) + ']/div[2]/h2/a').get_attribute('href')\n",
        "  list_innerlink.append(temp_innerlink)\n",
        "  # print(temp_innerlink)"
      ],
      "execution_count": null,
      "outputs": [
        {
          "output_type": "stream",
          "name": "stdout",
          "text": [
            "127200\n",
            "14100\n",
            "14300\n",
            "24100\n",
            "5300\n",
            "8900\n",
            "100000\n",
            "138000\n",
            "237900\n",
            "181200\n",
            "169000\n",
            "393000\n",
            "471000\n",
            "85500\n",
            "187200\n",
            "234000\n",
            "160800\n",
            "201600\n"
          ]
        }
      ]
    },
    {
      "cell_type": "markdown",
      "metadata": {
        "id": "AOe5_STFrMeL"
      },
      "source": [
        "secondary page test"
      ]
    },
    {
      "cell_type": "code",
      "metadata": {
        "colab": {
          "base_uri": "https://localhost:8080/"
        },
        "id": "XIPgtMzirPP3",
        "outputId": "9cb52ef5-889a-4abb-92d1-445df13e56e4"
      },
      "source": [
        "len(list_innerlink)"
      ],
      "execution_count": null,
      "outputs": [
        {
          "output_type": "execute_result",
          "data": {
            "text/plain": [
              "18"
            ]
          },
          "metadata": {},
          "execution_count": 98
        }
      ]
    },
    {
      "cell_type": "code",
      "metadata": {
        "id": "-X-8czAOrYTv"
      },
      "source": [
        "for innerlink_num in list_innerlink:\n",
        "  driver.get(str(innerlink_num))"
      ],
      "execution_count": null,
      "outputs": []
    },
    {
      "cell_type": "code",
      "metadata": {
        "id": "z3EX3_2PryHK"
      },
      "source": [
        "driver.get('https://kainrypus.booth.pm/items/3060938')"
      ],
      "execution_count": null,
      "outputs": []
    },
    {
      "cell_type": "code",
      "metadata": {
        "colab": {
          "base_uri": "https://localhost:8080/",
          "height": 73
        },
        "id": "jw6IOVIEr_Y9",
        "outputId": "f9ad8786-bea8-4d97-f518-189c5d6dc851"
      },
      "source": [
        "driver.find_element_by_xpath('//*[@id=\"js-item-info-detail\"]/div[2]/div[6]/p/span[1]').get_attribute('innerText').replace('\\n',' ').replace('  ',' ')"
      ],
      "execution_count": null,
      "outputs": [
        {
          "output_type": "execute_result",
          "data": {
            "application/vnd.google.colaboratory.intrinsic+json": {
              "type": "string"
            },
            "text/plain": [
              "'[3Dモデル]マント-ロイヤル(Cloak-Royal) ほとんどのアバターに適用可能なマント-ロイヤル(Cloak- Royal)です。 ※テクスチャ修正のためのPSDファイルが含まれています。 Poiyomi Toon Shaderを使いました。 ※ 各々のシェーダーは商品に含まれています。 ※ Unityで[ClothComponent]を使用しました。 ※ ベースボディモデルは含まれていません。  ////////////////////////  本モデルを購入した時点で、本利用規約に同意したとみなします。 利用規約の内容は変更する場合があり、最新のものが適用されます。/// -本モデルのpublicアップロードを禁止します。 -本モデルの材質、質感、色の変更は可能であり、商業的に利用できます。 -本モデル、改造モデルの再配布、販売を禁止します ※代理アップロードも禁止します。 -Piniは、当モデルと改造されたモデルの使用によって生する何らかのトラブル、損失について一切責任を負いません。 '"
            ]
          },
          "metadata": {},
          "execution_count": 101
        }
      ]
    },
    {
      "cell_type": "code",
      "metadata": {
        "colab": {
          "base_uri": "https://localhost:8080/"
        },
        "id": "QaH-p0b0zpCn",
        "outputId": "44782190-9eb2-4dfc-f949-57e4422dc411"
      },
      "source": [
        "src = driver.find_element_by_xpath('//*[@id=\"photo-gallery\"]/div/div/div[2]/div/div/div/img').get_attribute('src')\n",
        "print(src)"
      ],
      "execution_count": null,
      "outputs": [
        {
          "output_type": "stream",
          "name": "stdout",
          "text": [
            "https://s2.booth.pm/57a051cf-430c-4cc0-8a88-8fd753723078/i/3060938/7c2568db-f912-44d6-bdd9-62c2c2512263_base_resized.jpg\n"
          ]
        }
      ]
    },
    {
      "cell_type": "code",
      "metadata": {
        "colab": {
          "base_uri": "https://localhost:8080/",
          "height": 176
        },
        "id": "tFI6XzMI5_wm",
        "outputId": "14430940-288a-4214-901d-906429860444"
      },
      "source": [
        "urllib.request.urlretrieve(src, \"captcha.png\")"
      ],
      "execution_count": null,
      "outputs": [
        {
          "output_type": "error",
          "ename": "AttributeError",
          "evalue": "ignored",
          "traceback": [
            "\u001b[0;31m---------------------------------------------------------------------------\u001b[0m",
            "\u001b[0;31mAttributeError\u001b[0m                            Traceback (most recent call last)",
            "\u001b[0;32m<ipython-input-150-dfa27d81d14e>\u001b[0m in \u001b[0;36m<module>\u001b[0;34m()\u001b[0m\n\u001b[0;32m----> 1\u001b[0;31m \u001b[0murllib\u001b[0m\u001b[0;34m.\u001b[0m\u001b[0mrequest\u001b[0m\u001b[0;34m.\u001b[0m\u001b[0murlretrieve\u001b[0m\u001b[0;34m(\u001b[0m\u001b[0msrc\u001b[0m\u001b[0;34m,\u001b[0m \u001b[0;34m\"captcha.png\"\u001b[0m\u001b[0;34m)\u001b[0m\u001b[0;34m.\u001b[0m\u001b[0mread\u001b[0m\u001b[0;34m(\u001b[0m\u001b[0;34m)\u001b[0m\u001b[0;34m\u001b[0m\u001b[0;34m\u001b[0m\u001b[0m\n\u001b[0m",
            "\u001b[0;31mAttributeError\u001b[0m: 'tuple' object has no attribute 'read'"
          ]
        }
      ]
    },
    {
      "cell_type": "code",
      "metadata": {
        "colab": {
          "base_uri": "https://localhost:8080/"
        },
        "id": "-dR4vML35wSI",
        "outputId": "2fd51f00-7ca6-4073-de7d-3a4407ff36f8"
      },
      "source": [
        "%cd /content/Intrinsic-Image-Popularity\n",
        "!python test.py --image_path /content/Intrinsic-Image-Popularity/captcha.png > myoutput.txt\n"
      ],
      "execution_count": null,
      "outputs": [
        {
          "output_type": "stream",
          "name": "stdout",
          "text": [
            "/content/Intrinsic-Image-Popularity\n",
            "/usr/local/lib/python3.7/dist-packages/torch/nn/functional.py:718: UserWarning: Named tensors and all their associated APIs are an experimental feature and subject to change. Please do not use them for anything important until they are released as stable. (Triggered internally at  /pytorch/c10/core/TensorImpl.h:1156.)\n",
            "  return torch.max_pool2d(input, kernel_size, stride, padding, dilation, ceil_mode)\n"
          ]
        }
      ]
    },
    {
      "cell_type": "code",
      "metadata": {
        "colab": {
          "base_uri": "https://localhost:8080/"
        },
        "id": "X54yJPBE6ybr",
        "outputId": "e6745386-8d22-4854-f3aa-8ec98c472901"
      },
      "source": [
        "popscore = float(open('myoutput.txt').read().replace('Popularity score: ','').replace('\\n',''))"
      ],
      "execution_count": null,
      "outputs": [
        {
          "output_type": "execute_result",
          "data": {
            "text/plain": [
              "0.52"
            ]
          },
          "metadata": {},
          "execution_count": 154
        }
      ]
    },
    {
      "cell_type": "code",
      "metadata": {
        "id": "NY2T7o6RzhGM"
      },
      "source": [
        "driver.find_element_by_xpath('//*[@id=\"photo-gallery\"]/button[2]').click()"
      ],
      "execution_count": null,
      "outputs": []
    },
    {
      "cell_type": "code",
      "metadata": {
        "colab": {
          "base_uri": "https://localhost:8080/"
        },
        "id": "2A2VzlEfzq68",
        "outputId": "b5c4938a-c82f-4467-d7c6-bbc8869e1b43"
      },
      "source": [
        "src = driver.find_element_by_xpath('//*[@id=\"photo-gallery\"]/div/div/div[3]/div/div/div/img').get_attribute('src')\n",
        "print(src)"
      ],
      "execution_count": null,
      "outputs": [
        {
          "output_type": "stream",
          "name": "stdout",
          "text": [
            "https://s2.booth.pm/57a051cf-430c-4cc0-8a88-8fd753723078/i/3121203/245c27ed-acd0-44e1-9cb6-423b0e38a590_base_resized.jpg\n"
          ]
        }
      ]
    },
    {
      "cell_type": "code",
      "metadata": {
        "colab": {
          "base_uri": "https://localhost:8080/"
        },
        "id": "crIMCYis3Lfm",
        "outputId": "83960292-1dfc-4787-e676-79e63840983a"
      },
      "source": [
        "src = driver.find_element_by_xpath('//*[@id=\"photo-gallery\"]/div/div/div[4]/div/div/div/img').get_attribute('src')\n",
        "print(src)"
      ],
      "execution_count": null,
      "outputs": [
        {
          "output_type": "stream",
          "name": "stdout",
          "text": [
            "https://s2.booth.pm/57a051cf-430c-4cc0-8a88-8fd753723078/i/3121203/faeb75f3-99cf-4942-8e7a-3bbe30fef1de_base_resized.jpg\n"
          ]
        }
      ]
    },
    {
      "cell_type": "code",
      "metadata": {
        "colab": {
          "base_uri": "https://localhost:8080/"
        },
        "id": "2S5-l9C43T-O",
        "outputId": "77dd43a0-4eed-4e69-f51c-ab7ec9938571"
      },
      "source": [
        "src = driver.find_element_by_xpath('//*[@id=\"photo-gallery\"]/div/div/div[5]/div/div/div/img').get_attribute('src')\n",
        "print(src)"
      ],
      "execution_count": null,
      "outputs": [
        {
          "output_type": "stream",
          "name": "stdout",
          "text": [
            "None\n"
          ]
        }
      ]
    },
    {
      "cell_type": "code",
      "metadata": {
        "colab": {
          "base_uri": "https://localhost:8080/"
        },
        "id": "bn3ypEdJGW01",
        "outputId": "a64aba6b-e47d-4f1d-c4b7-8f8ebf6d5c18"
      },
      "source": [
        "src = driver.find_element_by_xpath('//*[@id=\"photo-gallery\"]/div/div/div[1]/div/div/div/img').get_attribute('src')\n",
        "print(src)\n",
        "//*[@id=\"photo-gallery\"]/div/div/div[2]/div/div/div/img\n",
        "//*[@id=\"photo-gallery\"]/div/div/div[6]/div/div/div/img"
      ],
      "execution_count": null,
      "outputs": [
        {
          "output_type": "stream",
          "name": "stdout",
          "text": [
            "None\n"
          ]
        }
      ]
    },
    {
      "cell_type": "code",
      "metadata": {
        "colab": {
          "base_uri": "https://localhost:8080/",
          "height": 424
        },
        "id": "1twc6Rsar_i8",
        "outputId": "4348c5e8-a3b6-4bb8-c898-a80eef6e4c8f"
      },
      "source": [
        "%cd /content/Intrinsic-Image-Popularity\n",
        "src = driver.find_element_by_xpath('//*[@id=\"photo-gallery\"]/div/div/div[1]/div/div/div/img').get_attribute('src')\n",
        "urllib.request.urlretrieve(src, \"captcha.png\")\n",
        "!python test.py --image_path /content/Intrinsic-Image-Popularity/captcha.png > myoutput.txt\n",
        "popscore = float(open('myoutput.txt').read().replace('Popularity score: ','').replace('\\n',''))\n",
        "print(popscore, src)\n",
        "for image_num in range(2,6):\n",
        "  #click next button\n",
        "  driver.find_element_by_xpath('//*[@id=\"photo-gallery\"]/button[2]').click()\n",
        "  time.sleep(1)\n",
        "  src = driver.find_element_by_xpath('//*[@id=\"photo-gallery\"]/div/div/div[' + str(image_num) + ']/div/div/div/img').get_attribute('src')\n",
        "  if src == None:\n",
        "    print('go on')\n",
        "  else:\n",
        "    urllib.request.urlretrieve(src, \"captcha.png\")\n",
        "    !python test.py --image_path /content/Intrinsic-Image-Popularity/captcha.png > myoutput.txt\n",
        "    popscore = float(open('myoutput.txt').read().replace('Popularity score: ','').replace('\\n',''))\n",
        "    print(popscore, src)"
      ],
      "execution_count": null,
      "outputs": [
        {
          "output_type": "stream",
          "name": "stdout",
          "text": [
            "/content/Intrinsic-Image-Popularity\n"
          ]
        },
        {
          "output_type": "error",
          "ename": "TypeError",
          "evalue": "ignored",
          "traceback": [
            "\u001b[0;31m---------------------------------------------------------------------------\u001b[0m",
            "\u001b[0;31mTypeError\u001b[0m                                 Traceback (most recent call last)",
            "\u001b[0;32m<ipython-input-19-21d771cffb93>\u001b[0m in \u001b[0;36m<module>\u001b[0;34m()\u001b[0m\n\u001b[1;32m      1\u001b[0m \u001b[0mget_ipython\u001b[0m\u001b[0;34m(\u001b[0m\u001b[0;34m)\u001b[0m\u001b[0;34m.\u001b[0m\u001b[0mmagic\u001b[0m\u001b[0;34m(\u001b[0m\u001b[0;34m'cd /content/Intrinsic-Image-Popularity'\u001b[0m\u001b[0;34m)\u001b[0m\u001b[0;34m\u001b[0m\u001b[0;34m\u001b[0m\u001b[0m\n\u001b[1;32m      2\u001b[0m \u001b[0msrc\u001b[0m \u001b[0;34m=\u001b[0m \u001b[0mdriver\u001b[0m\u001b[0;34m.\u001b[0m\u001b[0mfind_element_by_xpath\u001b[0m\u001b[0;34m(\u001b[0m\u001b[0;34m'//*[@id=\"photo-gallery\"]/div/div/div[1]/div/div/div/img'\u001b[0m\u001b[0;34m)\u001b[0m\u001b[0;34m.\u001b[0m\u001b[0mget_attribute\u001b[0m\u001b[0;34m(\u001b[0m\u001b[0;34m'src'\u001b[0m\u001b[0;34m)\u001b[0m\u001b[0;34m\u001b[0m\u001b[0;34m\u001b[0m\u001b[0m\n\u001b[0;32m----> 3\u001b[0;31m \u001b[0murllib\u001b[0m\u001b[0;34m.\u001b[0m\u001b[0mrequest\u001b[0m\u001b[0;34m.\u001b[0m\u001b[0murlretrieve\u001b[0m\u001b[0;34m(\u001b[0m\u001b[0msrc\u001b[0m\u001b[0;34m,\u001b[0m \u001b[0;34m\"captcha.png\"\u001b[0m\u001b[0;34m)\u001b[0m\u001b[0;34m\u001b[0m\u001b[0;34m\u001b[0m\u001b[0m\n\u001b[0m\u001b[1;32m      4\u001b[0m \u001b[0mget_ipython\u001b[0m\u001b[0;34m(\u001b[0m\u001b[0;34m)\u001b[0m\u001b[0;34m.\u001b[0m\u001b[0msystem\u001b[0m\u001b[0;34m(\u001b[0m\u001b[0;34m'python test.py --image_path /content/Intrinsic-Image-Popularity/captcha.png > myoutput.txt'\u001b[0m\u001b[0;34m)\u001b[0m\u001b[0;34m\u001b[0m\u001b[0;34m\u001b[0m\u001b[0m\n\u001b[1;32m      5\u001b[0m \u001b[0mpopscore\u001b[0m \u001b[0;34m=\u001b[0m \u001b[0mfloat\u001b[0m\u001b[0;34m(\u001b[0m\u001b[0mopen\u001b[0m\u001b[0;34m(\u001b[0m\u001b[0;34m'myoutput.txt'\u001b[0m\u001b[0;34m)\u001b[0m\u001b[0;34m.\u001b[0m\u001b[0mread\u001b[0m\u001b[0;34m(\u001b[0m\u001b[0;34m)\u001b[0m\u001b[0;34m.\u001b[0m\u001b[0mreplace\u001b[0m\u001b[0;34m(\u001b[0m\u001b[0;34m'Popularity score: '\u001b[0m\u001b[0;34m,\u001b[0m\u001b[0;34m''\u001b[0m\u001b[0;34m)\u001b[0m\u001b[0;34m.\u001b[0m\u001b[0mreplace\u001b[0m\u001b[0;34m(\u001b[0m\u001b[0;34m'\\n'\u001b[0m\u001b[0;34m,\u001b[0m\u001b[0;34m''\u001b[0m\u001b[0;34m)\u001b[0m\u001b[0;34m)\u001b[0m\u001b[0;34m\u001b[0m\u001b[0;34m\u001b[0m\u001b[0m\n",
            "\u001b[0;32m/usr/lib/python3.7/urllib/request.py\u001b[0m in \u001b[0;36murlretrieve\u001b[0;34m(url, filename, reporthook, data)\u001b[0m\n\u001b[1;32m    243\u001b[0m     \u001b[0mdata\u001b[0m \u001b[0mfile\u001b[0m \u001b[0;32mas\u001b[0m \u001b[0mwell\u001b[0m \u001b[0;32mas\u001b[0m \u001b[0mthe\u001b[0m \u001b[0mresulting\u001b[0m \u001b[0mHTTPMessage\u001b[0m \u001b[0mobject\u001b[0m\u001b[0;34m.\u001b[0m\u001b[0;34m\u001b[0m\u001b[0;34m\u001b[0m\u001b[0m\n\u001b[1;32m    244\u001b[0m     \"\"\"\n\u001b[0;32m--> 245\u001b[0;31m     \u001b[0murl_type\u001b[0m\u001b[0;34m,\u001b[0m \u001b[0mpath\u001b[0m \u001b[0;34m=\u001b[0m \u001b[0msplittype\u001b[0m\u001b[0;34m(\u001b[0m\u001b[0murl\u001b[0m\u001b[0;34m)\u001b[0m\u001b[0;34m\u001b[0m\u001b[0;34m\u001b[0m\u001b[0m\n\u001b[0m\u001b[1;32m    246\u001b[0m \u001b[0;34m\u001b[0m\u001b[0m\n\u001b[1;32m    247\u001b[0m     \u001b[0;32mwith\u001b[0m \u001b[0mcontextlib\u001b[0m\u001b[0;34m.\u001b[0m\u001b[0mclosing\u001b[0m\u001b[0;34m(\u001b[0m\u001b[0murlopen\u001b[0m\u001b[0;34m(\u001b[0m\u001b[0murl\u001b[0m\u001b[0;34m,\u001b[0m \u001b[0mdata\u001b[0m\u001b[0;34m)\u001b[0m\u001b[0;34m)\u001b[0m \u001b[0;32mas\u001b[0m \u001b[0mfp\u001b[0m\u001b[0;34m:\u001b[0m\u001b[0;34m\u001b[0m\u001b[0;34m\u001b[0m\u001b[0m\n",
            "\u001b[0;32m/usr/lib/python3.7/urllib/parse.py\u001b[0m in \u001b[0;36msplittype\u001b[0;34m(url)\u001b[0m\n\u001b[1;32m   1000\u001b[0m         \u001b[0m_typeprog\u001b[0m \u001b[0;34m=\u001b[0m \u001b[0mre\u001b[0m\u001b[0;34m.\u001b[0m\u001b[0mcompile\u001b[0m\u001b[0;34m(\u001b[0m\u001b[0;34m'([^/:]+):(.*)'\u001b[0m\u001b[0;34m,\u001b[0m \u001b[0mre\u001b[0m\u001b[0;34m.\u001b[0m\u001b[0mDOTALL\u001b[0m\u001b[0;34m)\u001b[0m\u001b[0;34m\u001b[0m\u001b[0;34m\u001b[0m\u001b[0m\n\u001b[1;32m   1001\u001b[0m \u001b[0;34m\u001b[0m\u001b[0m\n\u001b[0;32m-> 1002\u001b[0;31m     \u001b[0mmatch\u001b[0m \u001b[0;34m=\u001b[0m \u001b[0m_typeprog\u001b[0m\u001b[0;34m.\u001b[0m\u001b[0mmatch\u001b[0m\u001b[0;34m(\u001b[0m\u001b[0murl\u001b[0m\u001b[0;34m)\u001b[0m\u001b[0;34m\u001b[0m\u001b[0;34m\u001b[0m\u001b[0m\n\u001b[0m\u001b[1;32m   1003\u001b[0m     \u001b[0;32mif\u001b[0m \u001b[0mmatch\u001b[0m\u001b[0;34m:\u001b[0m\u001b[0;34m\u001b[0m\u001b[0;34m\u001b[0m\u001b[0m\n\u001b[1;32m   1004\u001b[0m         \u001b[0mscheme\u001b[0m\u001b[0;34m,\u001b[0m \u001b[0mdata\u001b[0m \u001b[0;34m=\u001b[0m \u001b[0mmatch\u001b[0m\u001b[0;34m.\u001b[0m\u001b[0mgroups\u001b[0m\u001b[0;34m(\u001b[0m\u001b[0;34m)\u001b[0m\u001b[0;34m\u001b[0m\u001b[0;34m\u001b[0m\u001b[0m\n",
            "\u001b[0;31mTypeError\u001b[0m: expected string or bytes-like object"
          ]
        }
      ]
    }
  ]
}