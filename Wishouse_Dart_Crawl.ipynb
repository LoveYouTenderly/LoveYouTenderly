{
  "nbformat": 4,
  "nbformat_minor": 0,
  "metadata": {
    "colab": {
      "provenance": [],
      "collapsed_sections": [
        "bu0da_TZ2HL8",
        "3riuPC8SbW2p",
        "PsqJVu5_baOy",
        "K6MW3utl2NTg",
        "RisihCAw2QGR",
        "cikMLlhq2Bkd",
        "3yNbPRe4a8sC"
      ],
      "authorship_tag": "ABX9TyNQPQ2wTGY/KDY/VB35ZX08",
      "include_colab_link": true
    },
    "kernelspec": {
      "name": "python3",
      "display_name": "Python 3"
    },
    "language_info": {
      "name": "python"
    }
  },
  "cells": [
    {
      "cell_type": "markdown",
      "metadata": {
        "id": "view-in-github",
        "colab_type": "text"
      },
      "source": [
        "<a href=\"https://colab.research.google.com/github/LoveYouTenderly/LoveYouTenderly/blob/main/Wishouse_Dart_Crawl.ipynb\" target=\"_parent\"><img src=\"https://colab.research.google.com/assets/colab-badge.svg\" alt=\"Open In Colab\"/></a>"
      ]
    },
    {
      "cell_type": "markdown",
      "source": [
        "#base install"
      ],
      "metadata": {
        "id": "bu0da_TZ2HL8"
      }
    },
    {
      "cell_type": "markdown",
      "source": [
        "##selenium"
      ],
      "metadata": {
        "id": "3riuPC8SbW2p"
      }
    },
    {
      "cell_type": "code",
      "execution_count": null,
      "metadata": {
        "id": "h2-LVRBM1u7R"
      },
      "outputs": [],
      "source": [
        "from tqdm import tqdm"
      ]
    },
    {
      "cell_type": "code",
      "source": [
        "!pip install selenium"
      ],
      "metadata": {
        "colab": {
          "base_uri": "https://localhost:8080/"
        },
        "id": "IuicQmC115Y8",
        "outputId": "e71dfb1e-4115-4666-9311-072b353bd753"
      },
      "execution_count": null,
      "outputs": [
        {
          "output_type": "stream",
          "name": "stdout",
          "text": [
            "Looking in indexes: https://pypi.org/simple, https://us-python.pkg.dev/colab-wheels/public/simple/\n",
            "Collecting selenium\n",
            "  Downloading selenium-4.4.3-py3-none-any.whl (985 kB)\n",
            "\u001b[K     |████████████████████████████████| 985 kB 14.3 MB/s \n",
            "\u001b[?25hCollecting trio~=0.17\n",
            "  Downloading trio-0.21.0-py3-none-any.whl (358 kB)\n",
            "\u001b[K     |████████████████████████████████| 358 kB 49.2 MB/s \n",
            "\u001b[?25hCollecting urllib3[socks]~=1.26\n",
            "  Downloading urllib3-1.26.11-py2.py3-none-any.whl (139 kB)\n",
            "\u001b[K     |████████████████████████████████| 139 kB 46.5 MB/s \n",
            "\u001b[?25hRequirement already satisfied: certifi>=2021.10.8 in /usr/local/lib/python3.7/dist-packages (from selenium) (2022.6.15)\n",
            "Collecting trio-websocket~=0.9\n",
            "  Downloading trio_websocket-0.9.2-py3-none-any.whl (16 kB)\n",
            "Collecting outcome\n",
            "  Downloading outcome-1.2.0-py2.py3-none-any.whl (9.7 kB)\n",
            "Collecting sniffio\n",
            "  Downloading sniffio-1.2.0-py3-none-any.whl (10 kB)\n",
            "Requirement already satisfied: idna in /usr/local/lib/python3.7/dist-packages (from trio~=0.17->selenium) (2.10)\n",
            "Collecting async-generator>=1.9\n",
            "  Downloading async_generator-1.10-py3-none-any.whl (18 kB)\n",
            "Requirement already satisfied: sortedcontainers in /usr/local/lib/python3.7/dist-packages (from trio~=0.17->selenium) (2.4.0)\n",
            "Requirement already satisfied: attrs>=19.2.0 in /usr/local/lib/python3.7/dist-packages (from trio~=0.17->selenium) (22.1.0)\n",
            "Collecting wsproto>=0.14\n",
            "  Downloading wsproto-1.1.0-py3-none-any.whl (24 kB)\n",
            "Requirement already satisfied: PySocks!=1.5.7,<2.0,>=1.5.6 in /usr/local/lib/python3.7/dist-packages (from urllib3[socks]~=1.26->selenium) (1.7.1)\n",
            "Collecting h11<1,>=0.9.0\n",
            "  Downloading h11-0.13.0-py3-none-any.whl (58 kB)\n",
            "\u001b[K     |████████████████████████████████| 58 kB 5.5 MB/s \n",
            "\u001b[?25hRequirement already satisfied: typing-extensions in /usr/local/lib/python3.7/dist-packages (from h11<1,>=0.9.0->wsproto>=0.14->trio-websocket~=0.9->selenium) (4.1.1)\n",
            "Installing collected packages: sniffio, outcome, h11, async-generator, wsproto, urllib3, trio, trio-websocket, selenium\n",
            "  Attempting uninstall: urllib3\n",
            "    Found existing installation: urllib3 1.24.3\n",
            "    Uninstalling urllib3-1.24.3:\n",
            "      Successfully uninstalled urllib3-1.24.3\n",
            "\u001b[31mERROR: pip's dependency resolver does not currently take into account all the packages that are installed. This behaviour is the source of the following dependency conflicts.\n",
            "requests 2.23.0 requires urllib3!=1.25.0,!=1.25.1,<1.26,>=1.21.1, but you have urllib3 1.26.11 which is incompatible.\u001b[0m\n",
            "Successfully installed async-generator-1.10 h11-0.13.0 outcome-1.2.0 selenium-4.4.3 sniffio-1.2.0 trio-0.21.0 trio-websocket-0.9.2 urllib3-1.26.11 wsproto-1.1.0\n"
          ]
        }
      ]
    },
    {
      "cell_type": "code",
      "source": [
        "!apt-get update # to update ubuntu to correctly run apt install\n",
        "!apt install chromium-chromedriver\n",
        "!cp /usr/lib/chromium-browser/chromedriver /usr/bin"
      ],
      "metadata": {
        "colab": {
          "base_uri": "https://localhost:8080/"
        },
        "id": "lGnRyTTf16eB",
        "outputId": "ec0b070d-9248-4da9-a9cd-0e3bb15a23f9"
      },
      "execution_count": null,
      "outputs": [
        {
          "output_type": "stream",
          "name": "stdout",
          "text": [
            "\r0% [Working]\r            \rHit:1 http://archive.ubuntu.com/ubuntu bionic InRelease\n",
            "\r0% [Waiting for headers] [Connecting to security.ubuntu.com (91.189.91.38)] [Co\r                                                                               \rGet:2 http://archive.ubuntu.com/ubuntu bionic-updates InRelease [88.7 kB]\n",
            "\r                                                                               \rGet:3 http://archive.ubuntu.com/ubuntu bionic-backports InRelease [74.6 kB]\n",
            "\r                                                                               \rGet:4 https://cloud.r-project.org/bin/linux/ubuntu bionic-cran40/ InRelease [3,626 B]\n",
            "\r                                                                               \rGet:5 http://ppa.launchpad.net/c2d4u.team/c2d4u4.0+/ubuntu bionic InRelease [15.9 kB]\n",
            "\r                                                                               \rHit:6 http://ppa.launchpad.net/cran/libgit2/ubuntu bionic InRelease\n",
            "\r                                                                               \rHit:7 http://ppa.launchpad.net/deadsnakes/ppa/ubuntu bionic InRelease\n",
            "\r0% [3 InRelease 74.6 kB/74.6 kB 100%] [Waiting for headers] [Waiting for header\r0% [1 InRelease gpgv 242 kB] [Waiting for headers] [Waiting for headers] [Waiti\r                                                                               \rHit:8 http://ppa.launchpad.net/graphics-drivers/ppa/ubuntu bionic InRelease\n",
            "Get:9 http://security.ubuntu.com/ubuntu bionic-security InRelease [88.7 kB]\n",
            "Ign:10 https://developer.download.nvidia.com/compute/machine-learning/repos/ubuntu1804/x86_64  InRelease\n",
            "Get:11 https://developer.download.nvidia.com/compute/cuda/repos/ubuntu1804/x86_64  InRelease [1,581 B]\n",
            "Hit:12 https://developer.download.nvidia.com/compute/machine-learning/repos/ubuntu1804/x86_64  Release\n",
            "Get:13 http://archive.ubuntu.com/ubuntu bionic-updates/main amd64 Packages [3,369 kB]\n",
            "Get:14 http://archive.ubuntu.com/ubuntu bionic-updates/universe amd64 Packages [2,311 kB]\n",
            "Get:15 http://ppa.launchpad.net/c2d4u.team/c2d4u4.0+/ubuntu bionic/main Sources [2,095 kB]\n",
            "Get:16 http://ppa.launchpad.net/c2d4u.team/c2d4u4.0+/ubuntu bionic/main amd64 Packages [1,073 kB]\n",
            "Get:17 https://developer.download.nvidia.com/compute/cuda/repos/ubuntu1804/x86_64  Packages [910 kB]\n",
            "Get:19 http://security.ubuntu.com/ubuntu bionic-security/main amd64 Packages [2,937 kB]\n",
            "Get:20 http://security.ubuntu.com/ubuntu bionic-security/universe amd64 Packages [1,533 kB]\n",
            "Fetched 14.5 MB in 4s (3,274 kB/s)\n",
            "Reading package lists... Done\n",
            "Reading package lists... Done\n",
            "Building dependency tree       \n",
            "Reading state information... Done\n",
            "The following package was automatically installed and is no longer required:\n",
            "  libnvidia-common-460\n",
            "Use 'apt autoremove' to remove it.\n",
            "The following additional packages will be installed:\n",
            "  chromium-browser chromium-browser-l10n chromium-codecs-ffmpeg-extra\n",
            "Suggested packages:\n",
            "  webaccounts-chromium-extension unity-chromium-extension\n",
            "The following NEW packages will be installed:\n",
            "  chromium-browser chromium-browser-l10n chromium-chromedriver\n",
            "  chromium-codecs-ffmpeg-extra\n",
            "0 upgraded, 4 newly installed, 0 to remove and 25 not upgraded.\n",
            "Need to get 90.4 MB of archives.\n",
            "After this operation, 306 MB of additional disk space will be used.\n",
            "Get:1 http://archive.ubuntu.com/ubuntu bionic-updates/universe amd64 chromium-codecs-ffmpeg-extra amd64 103.0.5060.134-0ubuntu0.18.04.1 [1,160 kB]\n",
            "Get:2 http://archive.ubuntu.com/ubuntu bionic-updates/universe amd64 chromium-browser amd64 103.0.5060.134-0ubuntu0.18.04.1 [79.0 MB]\n",
            "Get:3 http://archive.ubuntu.com/ubuntu bionic-updates/universe amd64 chromium-browser-l10n all 103.0.5060.134-0ubuntu0.18.04.1 [5,043 kB]\n",
            "Get:4 http://archive.ubuntu.com/ubuntu bionic-updates/universe amd64 chromium-chromedriver amd64 103.0.5060.134-0ubuntu0.18.04.1 [5,202 kB]\n",
            "Fetched 90.4 MB in 4s (23.8 MB/s)\n",
            "Selecting previously unselected package chromium-codecs-ffmpeg-extra.\n",
            "(Reading database ... 155676 files and directories currently installed.)\n",
            "Preparing to unpack .../chromium-codecs-ffmpeg-extra_103.0.5060.134-0ubuntu0.18.04.1_amd64.deb ...\n",
            "Unpacking chromium-codecs-ffmpeg-extra (103.0.5060.134-0ubuntu0.18.04.1) ...\n",
            "Selecting previously unselected package chromium-browser.\n",
            "Preparing to unpack .../chromium-browser_103.0.5060.134-0ubuntu0.18.04.1_amd64.deb ...\n",
            "Unpacking chromium-browser (103.0.5060.134-0ubuntu0.18.04.1) ...\n",
            "Selecting previously unselected package chromium-browser-l10n.\n",
            "Preparing to unpack .../chromium-browser-l10n_103.0.5060.134-0ubuntu0.18.04.1_all.deb ...\n",
            "Unpacking chromium-browser-l10n (103.0.5060.134-0ubuntu0.18.04.1) ...\n",
            "Selecting previously unselected package chromium-chromedriver.\n",
            "Preparing to unpack .../chromium-chromedriver_103.0.5060.134-0ubuntu0.18.04.1_amd64.deb ...\n",
            "Unpacking chromium-chromedriver (103.0.5060.134-0ubuntu0.18.04.1) ...\n",
            "Setting up chromium-codecs-ffmpeg-extra (103.0.5060.134-0ubuntu0.18.04.1) ...\n",
            "Setting up chromium-browser (103.0.5060.134-0ubuntu0.18.04.1) ...\n",
            "update-alternatives: using /usr/bin/chromium-browser to provide /usr/bin/x-www-browser (x-www-browser) in auto mode\n",
            "update-alternatives: using /usr/bin/chromium-browser to provide /usr/bin/gnome-www-browser (gnome-www-browser) in auto mode\n",
            "Setting up chromium-chromedriver (103.0.5060.134-0ubuntu0.18.04.1) ...\n",
            "Setting up chromium-browser-l10n (103.0.5060.134-0ubuntu0.18.04.1) ...\n",
            "Processing triggers for man-db (2.8.3-2ubuntu0.1) ...\n",
            "Processing triggers for hicolor-icon-theme (0.17-2) ...\n",
            "Processing triggers for mime-support (3.60ubuntu1) ...\n",
            "Processing triggers for libc-bin (2.27-3ubuntu1.5) ...\n",
            "cp: '/usr/lib/chromium-browser/chromedriver' and '/usr/bin/chromedriver' are the same file\n"
          ]
        }
      ]
    },
    {
      "cell_type": "code",
      "source": [
        "from selenium import webdriver\n",
        "from selenium.webdriver.common.keys import Keys\n",
        "from selenium.webdriver import ActionChains\n",
        "import time\n",
        "import urllib.request\n",
        "from selenium.webdriver.support import expected_conditions as EC\n",
        "from selenium.webdriver.common.by import By\n",
        "from selenium.webdriver.support.wait import WebDriverWait"
      ],
      "metadata": {
        "id": "OlqvGgs-174n"
      },
      "execution_count": null,
      "outputs": []
    },
    {
      "cell_type": "code",
      "source": [
        "import sys\n",
        "sys.path.insert(0,'/usr/lib/chromium-browser/chromedriver')\n",
        "from selenium import webdriver\n",
        "chrome_options = webdriver.ChromeOptions()\n",
        "chrome_options.add_argument('--headless')\n",
        "chrome_options.add_argument('--no-sandbox')\n",
        "chrome_options.add_argument('--disable-dev-shm-usage')\n",
        "wd = webdriver.Chrome('chromedriver',chrome_options=chrome_options)"
      ],
      "metadata": {
        "colab": {
          "base_uri": "https://localhost:8080/"
        },
        "id": "4LNfdLnz19gY",
        "outputId": "191d823e-a4b0-4b74-92ef-978dfe5e192f"
      },
      "execution_count": null,
      "outputs": [
        {
          "output_type": "stream",
          "name": "stderr",
          "text": [
            "/usr/local/lib/python3.7/dist-packages/ipykernel_launcher.py:8: DeprecationWarning: use options instead of chrome_options\n",
            "  \n"
          ]
        }
      ]
    },
    {
      "cell_type": "code",
      "source": [
        "driver =webdriver.Chrome('chromedriver',chrome_options=chrome_options)"
      ],
      "metadata": {
        "colab": {
          "base_uri": "https://localhost:8080/"
        },
        "id": "2B3VF92s1_iu",
        "outputId": "eb9cb065-1c60-474b-a697-dd287bbd4925"
      },
      "execution_count": null,
      "outputs": [
        {
          "output_type": "stream",
          "name": "stderr",
          "text": [
            "/usr/local/lib/python3.7/dist-packages/ipykernel_launcher.py:1: DeprecationWarning: use options instead of chrome_options\n",
            "  \"\"\"Entry point for launching an IPython kernel.\n"
          ]
        }
      ]
    },
    {
      "cell_type": "markdown",
      "source": [
        "##excel"
      ],
      "metadata": {
        "id": "PsqJVu5_baOy"
      }
    },
    {
      "cell_type": "code",
      "source": [
        "!pip install --upgrade xlrd"
      ],
      "metadata": {
        "colab": {
          "base_uri": "https://localhost:8080/"
        },
        "id": "NBvEdWKjdu9T",
        "outputId": "a0d76010-b113-4e0b-a41e-83a814367a89"
      },
      "execution_count": null,
      "outputs": [
        {
          "output_type": "stream",
          "name": "stdout",
          "text": [
            "Looking in indexes: https://pypi.org/simple, https://us-python.pkg.dev/colab-wheels/public/simple/\n",
            "Requirement already satisfied: xlrd in /usr/local/lib/python3.7/dist-packages (1.1.0)\n",
            "Collecting xlrd\n",
            "  Downloading xlrd-2.0.1-py2.py3-none-any.whl (96 kB)\n",
            "\u001b[K     |████████████████████████████████| 96 kB 3.4 MB/s \n",
            "\u001b[?25hInstalling collected packages: xlrd\n",
            "  Attempting uninstall: xlrd\n",
            "    Found existing installation: xlrd 1.1.0\n",
            "    Uninstalling xlrd-1.1.0:\n",
            "      Successfully uninstalled xlrd-1.1.0\n",
            "Successfully installed xlrd-2.0.1\n"
          ]
        }
      ]
    },
    {
      "cell_type": "code",
      "source": [
        "from google.colab import auth\n",
        "auth.authenticate_user()\n",
        "\n",
        "import gspread\n",
        "from google.auth import default\n",
        "creds, _ = default()\n",
        "\n",
        "gc = gspread.authorize(creds)"
      ],
      "metadata": {
        "id": "ffMSsvV4iU91",
        "colab": {
          "base_uri": "https://localhost:8080/"
        },
        "outputId": "fd6514d0-f7e0-4b21-f16d-775802ed1792"
      },
      "execution_count": null,
      "outputs": [
        {
          "output_type": "stream",
          "name": "stderr",
          "text": [
            "/usr/local/lib/python3.7/dist-packages/requests/__init__.py:91: RequestsDependencyWarning: urllib3 (1.26.11) or chardet (3.0.4) doesn't match a supported version!\n",
            "  RequestsDependencyWarning)\n"
          ]
        }
      ]
    },
    {
      "cell_type": "code",
      "source": [
        "import pandas as pd\n",
        "import xlrd\n",
        "import gspread_dataframe as gd"
      ],
      "metadata": {
        "id": "M1ugn4dNbdbZ"
      },
      "execution_count": null,
      "outputs": []
    },
    {
      "cell_type": "markdown",
      "source": [
        "#Restart Driver"
      ],
      "metadata": {
        "id": "K6MW3utl2NTg"
      }
    },
    {
      "cell_type": "code",
      "source": [
        "driver =webdriver.Chrome('chromedriver',chrome_options=chrome_options)"
      ],
      "metadata": {
        "colab": {
          "base_uri": "https://localhost:8080/"
        },
        "id": "ukh3VdAZ2Ob5",
        "outputId": "a2c52b7b-61c4-4357-ad41-70d9dcca0189"
      },
      "execution_count": null,
      "outputs": [
        {
          "output_type": "stream",
          "name": "stderr",
          "text": [
            "/usr/local/lib/python3.7/dist-packages/ipykernel_launcher.py:1: DeprecationWarning: use options instead of chrome_options\n",
            "  \"\"\"Entry point for launching an IPython kernel.\n"
          ]
        }
      ]
    },
    {
      "cell_type": "markdown",
      "source": [
        "#Screenshot"
      ],
      "metadata": {
        "id": "RisihCAw2QGR"
      }
    },
    {
      "cell_type": "code",
      "source": [
        "driver.save_screenshot(\"screenshot.png\")"
      ],
      "metadata": {
        "colab": {
          "base_uri": "https://localhost:8080/"
        },
        "id": "GZHKiJkA2SVp",
        "outputId": "c2747f2f-adae-413b-ae67-be75ac0f91fa"
      },
      "execution_count": null,
      "outputs": [
        {
          "output_type": "execute_result",
          "data": {
            "text/plain": [
              "True"
            ]
          },
          "metadata": {},
          "execution_count": 19
        }
      ]
    },
    {
      "cell_type": "markdown",
      "source": [
        "# (중요) 설정"
      ],
      "metadata": {
        "id": "rLeayUEBGmK3"
      }
    },
    {
      "cell_type": "code",
      "source": [
        "CompanyN = '035720'\n",
        "targetText = ['사업보고서', '(2021.12)']"
      ],
      "metadata": {
        "id": "7IiX6d6o66T_"
      },
      "execution_count": null,
      "outputs": []
    },
    {
      "cell_type": "code",
      "source": [
        "while True:pass"
      ],
      "metadata": {
        "id": "dPuor7jHkymQ"
      },
      "execution_count": null,
      "outputs": []
    },
    {
      "cell_type": "markdown",
      "source": [
        "#Dart2Search"
      ],
      "metadata": {
        "id": "cikMLlhq2Bkd"
      }
    },
    {
      "cell_type": "code",
      "source": [
        "driver.get('https://dart.fss.or.kr/')"
      ],
      "metadata": {
        "id": "vplzwQOR2BH4"
      },
      "execution_count": null,
      "outputs": []
    },
    {
      "cell_type": "code",
      "source": [
        "driver.find_element(\"xpath\",'//*[@id=\"textCrpNm2\"]').send_keys(CompanyN)\n",
        "driver.find_element(\"xpath\",'//*[@id=\"searchForm2\"]/div[1]/div[3]/a').click()"
      ],
      "metadata": {
        "id": "ToW-KZOr2dVk"
      },
      "execution_count": null,
      "outputs": []
    },
    {
      "cell_type": "code",
      "source": [
        "checkTF = False\n",
        "#실패시 다음페이지\n",
        "StartPage = 2\n",
        "#whileloop 확인\n",
        "pageChecker = True\n",
        "while pageChecker is True:\n",
        "  for page in range(1,16):\n",
        "    try: \n",
        "      textcheck = driver.find_element(\"xpath\",'/html/body/div[4]/div[2]/div[1]/div[2]/div[2]/form[3]/div/div[1]/table/tbody/tr['+str(page)+']/td[3]/a').text\n",
        "    except:\n",
        "      time.sleep(1)\n",
        "      textcheck = driver.find_element(\"xpath\",'/html/body/div[4]/div[2]/div[1]/div[2]/div[2]/form[3]/div/div[1]/table/tbody/tr['+str(page)+']/td[3]/a').text\n",
        "    #print(page, ': ', textcheck)\n",
        "    for checkText in targetText:\n",
        "      if checkText in textcheck:\n",
        "        checkTF = True\n",
        "      else:\n",
        "        checkTF = False\n",
        "    if checkTF is True:\n",
        "      print(StartPage-1,', ', page, ': ', textcheck)\n",
        "      pageChecker = False\n",
        "      break\n",
        "  if pageChecker is True:\n",
        "    SCROLL_PAUSE_SEC = 1\n",
        "    # 스크롤 높이 가져옴\n",
        "    last_height = driver.execute_script(\"return document.body.scrollHeight\")\n",
        "    while True:\n",
        "        # 끝까지 스크롤 다운\n",
        "        driver.execute_script(\"window.scrollTo(0, document.body.scrollHeight);\")\n",
        "        # 1초 대기\n",
        "        time.sleep(SCROLL_PAUSE_SEC)\n",
        "        # 스크롤 다운 후 스크롤 높이 다시 가져옴\n",
        "        new_height = driver.execute_script(\"return document.body.scrollHeight\")\n",
        "        if new_height == last_height:\n",
        "            break\n",
        "        last_height = new_height\n",
        "    #페이지 클릭\n",
        "    driver.find_element(\"xpath\",'//*[@id=\"psWrap\"]/div[2]/ul/li['+str(StartPage)+']/a').click()\n",
        "    StartPage += 1\n",
        "  else:\n",
        "    break"
      ],
      "metadata": {
        "colab": {
          "base_uri": "https://localhost:8080/"
        },
        "id": "FqCEqUcL3zTN",
        "outputId": "67461608-8bd4-47bc-b576-75407fc68df0"
      },
      "execution_count": null,
      "outputs": [
        {
          "output_type": "stream",
          "name": "stdout",
          "text": [
            "6 ,  13 :  사업보고서 (2021.12)\n"
          ]
        }
      ]
    },
    {
      "cell_type": "code",
      "source": [
        "#보고서 페이지\n",
        "Tolink = driver.find_element(\"xpath\",'/html/body/div[4]/div[2]/div[1]/div[2]/div[2]/form[3]/div/div[1]/table/tbody/tr['+str(page)+']/td[3]/a').get_attribute('href')\n",
        "driver.get(Tolink)\n",
        "#링크만들기\n",
        "linkText = driver.find_element(\"xpath\",'/html/body/div[3]/div/div[1]/div[2]/div[2]/button[1]').get_attribute('onclick')\n",
        "#파일모음 링크\n",
        "Newlink = 'https://dart.fss.or.kr/pdf/download/main.do?rcp_no='+linkText[-28:-14]+'&dcm_no='+linkText[-10:-3]\n",
        "#엑셀링크\n",
        "excelLink = 'https://dart.fss.or.kr/pdf/download/excel.do?rcp_no='+linkText[-28:-14]+'&dcm_no='+linkText[-10:-3]+'&lang=ko'\n",
        "driver.get(excelLink)"
      ],
      "metadata": {
        "id": "Jcy3iaO9JavT"
      },
      "execution_count": null,
      "outputs": []
    },
    {
      "cell_type": "code",
      "source": [
        "!wget {excelLink}"
      ],
      "metadata": {
        "colab": {
          "base_uri": "https://localhost:8080/"
        },
        "id": "hvi1jvGhNcBU",
        "outputId": "933eaedd-107a-4a2a-c3f2-3d2d2bb3fa31"
      },
      "execution_count": null,
      "outputs": [
        {
          "output_type": "stream",
          "name": "stdout",
          "text": [
            "--2022-08-22 06:30:31--  https://dart.fss.or.kr/pdf/download/excel.do?rcp_no=20220223003097\n",
            "Resolving dart.fss.or.kr (dart.fss.or.kr)... 61.73.60.200\n",
            "Connecting to dart.fss.or.kr (dart.fss.or.kr)|61.73.60.200|:443... connected.\n",
            "HTTP request sent, awaiting response... 200 OK\n",
            "Length: 0\n",
            "Saving to: ‘excel.do?rcp_no=20220223003097’\n",
            "\n",
            "excel.do?rcp_no=202     [ <=>                ]       0  --.-KB/s    in 0s      \n",
            "\n",
            "2022-08-22 06:30:33 (0.00 B/s) - ‘excel.do?rcp_no=20220223003097’ saved [0/0]\n",
            "\n"
          ]
        }
      ]
    },
    {
      "cell_type": "code",
      "source": [
        "Newlink"
      ],
      "metadata": {
        "colab": {
          "base_uri": "https://localhost:8080/",
          "height": 35
        },
        "id": "C4XcZtq1QApy",
        "outputId": "e80cafa0-3a96-43fe-c179-2f55d6900bbe"
      },
      "execution_count": null,
      "outputs": [
        {
          "output_type": "execute_result",
          "data": {
            "text/plain": [
              "'https://dart.fss.or.kr/pdf/download/main.do?rcp_no=20220223003097&dcm_no=8410046'"
            ],
            "application/vnd.google.colaboratory.intrinsic+json": {
              "type": "string"
            }
          },
          "metadata": {},
          "execution_count": 21
        }
      ]
    },
    {
      "cell_type": "markdown",
      "source": [
        "#dfization of excel"
      ],
      "metadata": {
        "id": "DMxprEuFvVzo"
      }
    },
    {
      "cell_type": "code",
      "source": [
        "df= (pd.read_excel(io=\"excel.xls\",sheet_name='재무상태표'))\n",
        "df2= (pd.read_excel(io=\"excel.xls\",sheet_name='포괄손익계산서'))"
      ],
      "metadata": {
        "id": "0FzJuYeVRKtG",
        "colab": {
          "base_uri": "https://localhost:8080/",
          "height": 360
        },
        "outputId": "2ecf5ffe-09b9-4d14-8cc3-8d5d2676ef1e"
      },
      "execution_count": null,
      "outputs": [
        {
          "output_type": "error",
          "ename": "FileNotFoundError",
          "evalue": "ignored",
          "traceback": [
            "\u001b[0;31m---------------------------------------------------------------------------\u001b[0m",
            "\u001b[0;31mFileNotFoundError\u001b[0m                         Traceback (most recent call last)",
            "\u001b[0;32m<ipython-input-18-b3d87868ea28>\u001b[0m in \u001b[0;36m<module>\u001b[0;34m\u001b[0m\n\u001b[0;32m----> 1\u001b[0;31m \u001b[0mdf\u001b[0m\u001b[0;34m=\u001b[0m \u001b[0;34m(\u001b[0m\u001b[0mpd\u001b[0m\u001b[0;34m.\u001b[0m\u001b[0mread_excel\u001b[0m\u001b[0;34m(\u001b[0m\u001b[0mio\u001b[0m\u001b[0;34m=\u001b[0m\u001b[0;34m\"excel.xls\"\u001b[0m\u001b[0;34m,\u001b[0m\u001b[0msheet_name\u001b[0m\u001b[0;34m=\u001b[0m\u001b[0;34m'재무상태표'\u001b[0m\u001b[0;34m)\u001b[0m\u001b[0;34m)\u001b[0m\u001b[0;34m\u001b[0m\u001b[0;34m\u001b[0m\u001b[0m\n\u001b[0m\u001b[1;32m      2\u001b[0m \u001b[0mdf2\u001b[0m\u001b[0;34m=\u001b[0m \u001b[0;34m(\u001b[0m\u001b[0mpd\u001b[0m\u001b[0;34m.\u001b[0m\u001b[0mread_excel\u001b[0m\u001b[0;34m(\u001b[0m\u001b[0mio\u001b[0m\u001b[0;34m=\u001b[0m\u001b[0;34m\"excel.xls\"\u001b[0m\u001b[0;34m,\u001b[0m\u001b[0msheet_name\u001b[0m\u001b[0;34m=\u001b[0m\u001b[0;34m'포괄손익계산서'\u001b[0m\u001b[0;34m)\u001b[0m\u001b[0;34m)\u001b[0m\u001b[0;34m\u001b[0m\u001b[0;34m\u001b[0m\u001b[0m\n",
            "\u001b[0;32m/usr/local/lib/python3.7/dist-packages/pandas/util/_decorators.py\u001b[0m in \u001b[0;36mwrapper\u001b[0;34m(*args, **kwargs)\u001b[0m\n\u001b[1;32m    309\u001b[0m                     \u001b[0mstacklevel\u001b[0m\u001b[0;34m=\u001b[0m\u001b[0mstacklevel\u001b[0m\u001b[0;34m,\u001b[0m\u001b[0;34m\u001b[0m\u001b[0;34m\u001b[0m\u001b[0m\n\u001b[1;32m    310\u001b[0m                 )\n\u001b[0;32m--> 311\u001b[0;31m             \u001b[0;32mreturn\u001b[0m \u001b[0mfunc\u001b[0m\u001b[0;34m(\u001b[0m\u001b[0;34m*\u001b[0m\u001b[0margs\u001b[0m\u001b[0;34m,\u001b[0m \u001b[0;34m**\u001b[0m\u001b[0mkwargs\u001b[0m\u001b[0;34m)\u001b[0m\u001b[0;34m\u001b[0m\u001b[0;34m\u001b[0m\u001b[0m\n\u001b[0m\u001b[1;32m    312\u001b[0m \u001b[0;34m\u001b[0m\u001b[0m\n\u001b[1;32m    313\u001b[0m         \u001b[0;32mreturn\u001b[0m \u001b[0mwrapper\u001b[0m\u001b[0;34m\u001b[0m\u001b[0;34m\u001b[0m\u001b[0m\n",
            "\u001b[0;32m/usr/local/lib/python3.7/dist-packages/pandas/io/excel/_base.py\u001b[0m in \u001b[0;36mread_excel\u001b[0;34m(io, sheet_name, header, names, index_col, usecols, squeeze, dtype, engine, converters, true_values, false_values, skiprows, nrows, na_values, keep_default_na, na_filter, verbose, parse_dates, date_parser, thousands, comment, skipfooter, convert_float, mangle_dupe_cols, storage_options)\u001b[0m\n\u001b[1;32m    362\u001b[0m     \u001b[0;32mif\u001b[0m \u001b[0;32mnot\u001b[0m \u001b[0misinstance\u001b[0m\u001b[0;34m(\u001b[0m\u001b[0mio\u001b[0m\u001b[0;34m,\u001b[0m \u001b[0mExcelFile\u001b[0m\u001b[0;34m)\u001b[0m\u001b[0;34m:\u001b[0m\u001b[0;34m\u001b[0m\u001b[0;34m\u001b[0m\u001b[0m\n\u001b[1;32m    363\u001b[0m         \u001b[0mshould_close\u001b[0m \u001b[0;34m=\u001b[0m \u001b[0;32mTrue\u001b[0m\u001b[0;34m\u001b[0m\u001b[0;34m\u001b[0m\u001b[0m\n\u001b[0;32m--> 364\u001b[0;31m         \u001b[0mio\u001b[0m \u001b[0;34m=\u001b[0m \u001b[0mExcelFile\u001b[0m\u001b[0;34m(\u001b[0m\u001b[0mio\u001b[0m\u001b[0;34m,\u001b[0m \u001b[0mstorage_options\u001b[0m\u001b[0;34m=\u001b[0m\u001b[0mstorage_options\u001b[0m\u001b[0;34m,\u001b[0m \u001b[0mengine\u001b[0m\u001b[0;34m=\u001b[0m\u001b[0mengine\u001b[0m\u001b[0;34m)\u001b[0m\u001b[0;34m\u001b[0m\u001b[0;34m\u001b[0m\u001b[0m\n\u001b[0m\u001b[1;32m    365\u001b[0m     \u001b[0;32melif\u001b[0m \u001b[0mengine\u001b[0m \u001b[0;32mand\u001b[0m \u001b[0mengine\u001b[0m \u001b[0;34m!=\u001b[0m \u001b[0mio\u001b[0m\u001b[0;34m.\u001b[0m\u001b[0mengine\u001b[0m\u001b[0;34m:\u001b[0m\u001b[0;34m\u001b[0m\u001b[0;34m\u001b[0m\u001b[0m\n\u001b[1;32m    366\u001b[0m         raise ValueError(\n",
            "\u001b[0;32m/usr/local/lib/python3.7/dist-packages/pandas/io/excel/_base.py\u001b[0m in \u001b[0;36m__init__\u001b[0;34m(self, path_or_buffer, engine, storage_options)\u001b[0m\n\u001b[1;32m   1190\u001b[0m             \u001b[0;32melse\u001b[0m\u001b[0;34m:\u001b[0m\u001b[0;34m\u001b[0m\u001b[0;34m\u001b[0m\u001b[0m\n\u001b[1;32m   1191\u001b[0m                 ext = inspect_excel_format(\n\u001b[0;32m-> 1192\u001b[0;31m                     \u001b[0mcontent_or_path\u001b[0m\u001b[0;34m=\u001b[0m\u001b[0mpath_or_buffer\u001b[0m\u001b[0;34m,\u001b[0m \u001b[0mstorage_options\u001b[0m\u001b[0;34m=\u001b[0m\u001b[0mstorage_options\u001b[0m\u001b[0;34m\u001b[0m\u001b[0;34m\u001b[0m\u001b[0m\n\u001b[0m\u001b[1;32m   1193\u001b[0m                 )\n\u001b[1;32m   1194\u001b[0m                 \u001b[0;32mif\u001b[0m \u001b[0mext\u001b[0m \u001b[0;32mis\u001b[0m \u001b[0;32mNone\u001b[0m\u001b[0;34m:\u001b[0m\u001b[0;34m\u001b[0m\u001b[0;34m\u001b[0m\u001b[0m\n",
            "\u001b[0;32m/usr/local/lib/python3.7/dist-packages/pandas/io/excel/_base.py\u001b[0m in \u001b[0;36minspect_excel_format\u001b[0;34m(content_or_path, storage_options)\u001b[0m\n\u001b[1;32m   1069\u001b[0m \u001b[0;34m\u001b[0m\u001b[0m\n\u001b[1;32m   1070\u001b[0m     with get_handle(\n\u001b[0;32m-> 1071\u001b[0;31m         \u001b[0mcontent_or_path\u001b[0m\u001b[0;34m,\u001b[0m \u001b[0;34m\"rb\"\u001b[0m\u001b[0;34m,\u001b[0m \u001b[0mstorage_options\u001b[0m\u001b[0;34m=\u001b[0m\u001b[0mstorage_options\u001b[0m\u001b[0;34m,\u001b[0m \u001b[0mis_text\u001b[0m\u001b[0;34m=\u001b[0m\u001b[0;32mFalse\u001b[0m\u001b[0;34m\u001b[0m\u001b[0;34m\u001b[0m\u001b[0m\n\u001b[0m\u001b[1;32m   1072\u001b[0m     ) as handle:\n\u001b[1;32m   1073\u001b[0m         \u001b[0mstream\u001b[0m \u001b[0;34m=\u001b[0m \u001b[0mhandle\u001b[0m\u001b[0;34m.\u001b[0m\u001b[0mhandle\u001b[0m\u001b[0;34m\u001b[0m\u001b[0;34m\u001b[0m\u001b[0m\n",
            "\u001b[0;32m/usr/local/lib/python3.7/dist-packages/pandas/io/common.py\u001b[0m in \u001b[0;36mget_handle\u001b[0;34m(path_or_buf, mode, encoding, compression, memory_map, is_text, errors, storage_options)\u001b[0m\n\u001b[1;32m    709\u001b[0m         \u001b[0;32melse\u001b[0m\u001b[0;34m:\u001b[0m\u001b[0;34m\u001b[0m\u001b[0;34m\u001b[0m\u001b[0m\n\u001b[1;32m    710\u001b[0m             \u001b[0;31m# Binary mode\u001b[0m\u001b[0;34m\u001b[0m\u001b[0;34m\u001b[0m\u001b[0;34m\u001b[0m\u001b[0m\n\u001b[0;32m--> 711\u001b[0;31m             \u001b[0mhandle\u001b[0m \u001b[0;34m=\u001b[0m \u001b[0mopen\u001b[0m\u001b[0;34m(\u001b[0m\u001b[0mhandle\u001b[0m\u001b[0;34m,\u001b[0m \u001b[0mioargs\u001b[0m\u001b[0;34m.\u001b[0m\u001b[0mmode\u001b[0m\u001b[0;34m)\u001b[0m\u001b[0;34m\u001b[0m\u001b[0;34m\u001b[0m\u001b[0m\n\u001b[0m\u001b[1;32m    712\u001b[0m         \u001b[0mhandles\u001b[0m\u001b[0;34m.\u001b[0m\u001b[0mappend\u001b[0m\u001b[0;34m(\u001b[0m\u001b[0mhandle\u001b[0m\u001b[0;34m)\u001b[0m\u001b[0;34m\u001b[0m\u001b[0;34m\u001b[0m\u001b[0m\n\u001b[1;32m    713\u001b[0m \u001b[0;34m\u001b[0m\u001b[0m\n",
            "\u001b[0;31mFileNotFoundError\u001b[0m: [Errno 2] No such file or directory: 'excel.xls'"
          ]
        }
      ]
    },
    {
      "cell_type": "code",
      "source": [
        "df"
      ],
      "metadata": {
        "colab": {
          "base_uri": "https://localhost:8080/",
          "height": 1000
        },
        "id": "vcrnTEIIbjBl",
        "outputId": "a1459434-aa19-4c8f-b793-144ee5aa9f6e"
      },
      "execution_count": null,
      "outputs": [
        {
          "output_type": "execute_result",
          "data": {
            "text/plain": [
              "                     Unnamed: 0      Unnamed: 1     Unnamed: 2     Unnamed: 3\n",
              "0                         재무상태표             NaN            NaN            NaN\n",
              "1          제 27 기 2021.12.31 현재             NaN            NaN            NaN\n",
              "2          제 26 기 2020.12.31 현재             NaN            NaN            NaN\n",
              "3          제 25 기 2019.12.31 현재             NaN            NaN            NaN\n",
              "4                      (단위 : 원)             NaN            NaN            NaN\n",
              "5                                        제 27 기         제 26 기         제 25 기\n",
              "6                            자산                                              \n",
              "7                          유동자산   2412771566068  1782401903517  1014030589420\n",
              "8                      현금및현금성자산   1478675780625  1356884920831   647121328668\n",
              "9                        단기금융상품    255435276220    65497423866    15590476220\n",
              "10            당기손익-공정가치 측정 금융자산    267800193700              0              0\n",
              "11                       파생상품자산               0       94116000      894102000\n",
              "12                         매출채권    152198881960   120477615976    94991384637\n",
              "13                     단기금융리스채권      9774298496     5035417806     2306220898\n",
              "14                     기타유동금융자산    190568812718   203640384338   222441824890\n",
              "15                         재고자산     20845094490              0     3989088538\n",
              "16                       기타유동자산     37473227859    30772024700    26696163569\n",
              "17                        비유동자산   7611880728366  5563104581267  5470330027390\n",
              "18                       장기금융상품     10000000000    10000000000    10000000000\n",
              "19            당기손익-공정가치 측정 금융자산     86639621580    59626742668    45399230609\n",
              "20          기타포괄손익-공정가치 측정 금융자산    789169945252   536800669867   330410964621\n",
              "21          종속기업, 관계기업 및 공동기업투자   3547758071680  2393425547162  2212393967698\n",
              "22                     장기금융리스채권     38839409746    16851382170    10458904481\n",
              "23                    기타비유동금융자산     55198740862    22896754400    18147937101\n",
              "24                         유형자산    312554741802   272117410599   248311163551\n",
              "25                         무형자산   1573635018208  2106230935896  2458574528458\n",
              "26                        사용권자산    836401029626   126831631071   101981843072\n",
              "27                        투자부동산    306535716457              0    21579864561\n",
              "28                     퇴직연금운용자산     20496117057     7696112461     5811141742\n",
              "29                      이연법인세자산      5221771430              0              0\n",
              "30                      기타비유동자산     29430544666    10627394973     7260481496\n",
              "31                         자산총계  10024652294434  7345506484784  6484360616810\n",
              "32                           부채                                              \n",
              "33                         유동부채   2299149092120  1421581282550  1370950261505\n",
              "34                  매입채무 및 기타채무    493501498065  1035669215930   686649998624\n",
              "35                        단기차입금    342179346067    57987200330   429063108400\n",
              "36                     기타유동금융부채      4995114000     2051114005     1805783602\n",
              "37                       미지급법인세     55517525169    49822909677    38118923770\n",
              "38                       파생상품부채               0              0     5871210000\n",
              "39                       단기리스부채    101724244061    37613103713    31494694565\n",
              "40                       기타유동부채   1301231364758   238437738895   177946542544\n",
              "41                        비유동부채   1171298508308   598480116822   255099527270\n",
              "42               비유동매입채무 및 기타채무     16682848737     4590817184     2786603839\n",
              "43                        장기차입금               0   321761482011    39965367209\n",
              "44                      비유동충당부채     40680511420    10333202884     9461197949\n",
              "45                       장기리스부채   1076109126631   121899752206    88642651025\n",
              "46                  기타장기종업원급여부채     35656381133    27047368083    25384985949\n",
              "47                      이연법인세부채               0   108245067298    88039313455\n",
              "48                      기타비유동부채      2169640387     4602427156      819407844\n",
              "49                         부채총계   3470447600428  2020061399372  1626049788775\n",
              "50                           자본                                              \n",
              "51                          자본금     44640599000    44300999000    43161318000\n",
              "52                        자본잉여금   5489187456902  4986863484685  4462249633278\n",
              "53                         자본조정     77070391402    18616904707    41292768578\n",
              "54                    기타포괄손익누계액    240486698823    66513984520    -2897079352\n",
              "55                   이익잉여금(결손금)    702819547879   209149712500   314504187531\n",
              "56                         자본총계   6554204694006  5325445085412  4858310828035\n",
              "57                      부채와자본총계  10024652294434  7345506484784  6484360616810"
            ],
            "text/html": [
              "\n",
              "  <div id=\"df-8d731460-19d1-4ca0-96a0-5346f8db62f7\">\n",
              "    <div class=\"colab-df-container\">\n",
              "      <div>\n",
              "<style scoped>\n",
              "    .dataframe tbody tr th:only-of-type {\n",
              "        vertical-align: middle;\n",
              "    }\n",
              "\n",
              "    .dataframe tbody tr th {\n",
              "        vertical-align: top;\n",
              "    }\n",
              "\n",
              "    .dataframe thead th {\n",
              "        text-align: right;\n",
              "    }\n",
              "</style>\n",
              "<table border=\"1\" class=\"dataframe\">\n",
              "  <thead>\n",
              "    <tr style=\"text-align: right;\">\n",
              "      <th></th>\n",
              "      <th>Unnamed: 0</th>\n",
              "      <th>Unnamed: 1</th>\n",
              "      <th>Unnamed: 2</th>\n",
              "      <th>Unnamed: 3</th>\n",
              "    </tr>\n",
              "  </thead>\n",
              "  <tbody>\n",
              "    <tr>\n",
              "      <th>0</th>\n",
              "      <td>재무상태표</td>\n",
              "      <td>NaN</td>\n",
              "      <td>NaN</td>\n",
              "      <td>NaN</td>\n",
              "    </tr>\n",
              "    <tr>\n",
              "      <th>1</th>\n",
              "      <td>제 27 기 2021.12.31 현재</td>\n",
              "      <td>NaN</td>\n",
              "      <td>NaN</td>\n",
              "      <td>NaN</td>\n",
              "    </tr>\n",
              "    <tr>\n",
              "      <th>2</th>\n",
              "      <td>제 26 기 2020.12.31 현재</td>\n",
              "      <td>NaN</td>\n",
              "      <td>NaN</td>\n",
              "      <td>NaN</td>\n",
              "    </tr>\n",
              "    <tr>\n",
              "      <th>3</th>\n",
              "      <td>제 25 기 2019.12.31 현재</td>\n",
              "      <td>NaN</td>\n",
              "      <td>NaN</td>\n",
              "      <td>NaN</td>\n",
              "    </tr>\n",
              "    <tr>\n",
              "      <th>4</th>\n",
              "      <td>(단위 : 원)</td>\n",
              "      <td>NaN</td>\n",
              "      <td>NaN</td>\n",
              "      <td>NaN</td>\n",
              "    </tr>\n",
              "    <tr>\n",
              "      <th>5</th>\n",
              "      <td></td>\n",
              "      <td>제 27 기</td>\n",
              "      <td>제 26 기</td>\n",
              "      <td>제 25 기</td>\n",
              "    </tr>\n",
              "    <tr>\n",
              "      <th>6</th>\n",
              "      <td>자산</td>\n",
              "      <td></td>\n",
              "      <td></td>\n",
              "      <td></td>\n",
              "    </tr>\n",
              "    <tr>\n",
              "      <th>7</th>\n",
              "      <td>유동자산</td>\n",
              "      <td>2412771566068</td>\n",
              "      <td>1782401903517</td>\n",
              "      <td>1014030589420</td>\n",
              "    </tr>\n",
              "    <tr>\n",
              "      <th>8</th>\n",
              "      <td>현금및현금성자산</td>\n",
              "      <td>1478675780625</td>\n",
              "      <td>1356884920831</td>\n",
              "      <td>647121328668</td>\n",
              "    </tr>\n",
              "    <tr>\n",
              "      <th>9</th>\n",
              "      <td>단기금융상품</td>\n",
              "      <td>255435276220</td>\n",
              "      <td>65497423866</td>\n",
              "      <td>15590476220</td>\n",
              "    </tr>\n",
              "    <tr>\n",
              "      <th>10</th>\n",
              "      <td>당기손익-공정가치 측정 금융자산</td>\n",
              "      <td>267800193700</td>\n",
              "      <td>0</td>\n",
              "      <td>0</td>\n",
              "    </tr>\n",
              "    <tr>\n",
              "      <th>11</th>\n",
              "      <td>파생상품자산</td>\n",
              "      <td>0</td>\n",
              "      <td>94116000</td>\n",
              "      <td>894102000</td>\n",
              "    </tr>\n",
              "    <tr>\n",
              "      <th>12</th>\n",
              "      <td>매출채권</td>\n",
              "      <td>152198881960</td>\n",
              "      <td>120477615976</td>\n",
              "      <td>94991384637</td>\n",
              "    </tr>\n",
              "    <tr>\n",
              "      <th>13</th>\n",
              "      <td>단기금융리스채권</td>\n",
              "      <td>9774298496</td>\n",
              "      <td>5035417806</td>\n",
              "      <td>2306220898</td>\n",
              "    </tr>\n",
              "    <tr>\n",
              "      <th>14</th>\n",
              "      <td>기타유동금융자산</td>\n",
              "      <td>190568812718</td>\n",
              "      <td>203640384338</td>\n",
              "      <td>222441824890</td>\n",
              "    </tr>\n",
              "    <tr>\n",
              "      <th>15</th>\n",
              "      <td>재고자산</td>\n",
              "      <td>20845094490</td>\n",
              "      <td>0</td>\n",
              "      <td>3989088538</td>\n",
              "    </tr>\n",
              "    <tr>\n",
              "      <th>16</th>\n",
              "      <td>기타유동자산</td>\n",
              "      <td>37473227859</td>\n",
              "      <td>30772024700</td>\n",
              "      <td>26696163569</td>\n",
              "    </tr>\n",
              "    <tr>\n",
              "      <th>17</th>\n",
              "      <td>비유동자산</td>\n",
              "      <td>7611880728366</td>\n",
              "      <td>5563104581267</td>\n",
              "      <td>5470330027390</td>\n",
              "    </tr>\n",
              "    <tr>\n",
              "      <th>18</th>\n",
              "      <td>장기금융상품</td>\n",
              "      <td>10000000000</td>\n",
              "      <td>10000000000</td>\n",
              "      <td>10000000000</td>\n",
              "    </tr>\n",
              "    <tr>\n",
              "      <th>19</th>\n",
              "      <td>당기손익-공정가치 측정 금융자산</td>\n",
              "      <td>86639621580</td>\n",
              "      <td>59626742668</td>\n",
              "      <td>45399230609</td>\n",
              "    </tr>\n",
              "    <tr>\n",
              "      <th>20</th>\n",
              "      <td>기타포괄손익-공정가치 측정 금융자산</td>\n",
              "      <td>789169945252</td>\n",
              "      <td>536800669867</td>\n",
              "      <td>330410964621</td>\n",
              "    </tr>\n",
              "    <tr>\n",
              "      <th>21</th>\n",
              "      <td>종속기업, 관계기업 및 공동기업투자</td>\n",
              "      <td>3547758071680</td>\n",
              "      <td>2393425547162</td>\n",
              "      <td>2212393967698</td>\n",
              "    </tr>\n",
              "    <tr>\n",
              "      <th>22</th>\n",
              "      <td>장기금융리스채권</td>\n",
              "      <td>38839409746</td>\n",
              "      <td>16851382170</td>\n",
              "      <td>10458904481</td>\n",
              "    </tr>\n",
              "    <tr>\n",
              "      <th>23</th>\n",
              "      <td>기타비유동금융자산</td>\n",
              "      <td>55198740862</td>\n",
              "      <td>22896754400</td>\n",
              "      <td>18147937101</td>\n",
              "    </tr>\n",
              "    <tr>\n",
              "      <th>24</th>\n",
              "      <td>유형자산</td>\n",
              "      <td>312554741802</td>\n",
              "      <td>272117410599</td>\n",
              "      <td>248311163551</td>\n",
              "    </tr>\n",
              "    <tr>\n",
              "      <th>25</th>\n",
              "      <td>무형자산</td>\n",
              "      <td>1573635018208</td>\n",
              "      <td>2106230935896</td>\n",
              "      <td>2458574528458</td>\n",
              "    </tr>\n",
              "    <tr>\n",
              "      <th>26</th>\n",
              "      <td>사용권자산</td>\n",
              "      <td>836401029626</td>\n",
              "      <td>126831631071</td>\n",
              "      <td>101981843072</td>\n",
              "    </tr>\n",
              "    <tr>\n",
              "      <th>27</th>\n",
              "      <td>투자부동산</td>\n",
              "      <td>306535716457</td>\n",
              "      <td>0</td>\n",
              "      <td>21579864561</td>\n",
              "    </tr>\n",
              "    <tr>\n",
              "      <th>28</th>\n",
              "      <td>퇴직연금운용자산</td>\n",
              "      <td>20496117057</td>\n",
              "      <td>7696112461</td>\n",
              "      <td>5811141742</td>\n",
              "    </tr>\n",
              "    <tr>\n",
              "      <th>29</th>\n",
              "      <td>이연법인세자산</td>\n",
              "      <td>5221771430</td>\n",
              "      <td>0</td>\n",
              "      <td>0</td>\n",
              "    </tr>\n",
              "    <tr>\n",
              "      <th>30</th>\n",
              "      <td>기타비유동자산</td>\n",
              "      <td>29430544666</td>\n",
              "      <td>10627394973</td>\n",
              "      <td>7260481496</td>\n",
              "    </tr>\n",
              "    <tr>\n",
              "      <th>31</th>\n",
              "      <td>자산총계</td>\n",
              "      <td>10024652294434</td>\n",
              "      <td>7345506484784</td>\n",
              "      <td>6484360616810</td>\n",
              "    </tr>\n",
              "    <tr>\n",
              "      <th>32</th>\n",
              "      <td>부채</td>\n",
              "      <td></td>\n",
              "      <td></td>\n",
              "      <td></td>\n",
              "    </tr>\n",
              "    <tr>\n",
              "      <th>33</th>\n",
              "      <td>유동부채</td>\n",
              "      <td>2299149092120</td>\n",
              "      <td>1421581282550</td>\n",
              "      <td>1370950261505</td>\n",
              "    </tr>\n",
              "    <tr>\n",
              "      <th>34</th>\n",
              "      <td>매입채무 및 기타채무</td>\n",
              "      <td>493501498065</td>\n",
              "      <td>1035669215930</td>\n",
              "      <td>686649998624</td>\n",
              "    </tr>\n",
              "    <tr>\n",
              "      <th>35</th>\n",
              "      <td>단기차입금</td>\n",
              "      <td>342179346067</td>\n",
              "      <td>57987200330</td>\n",
              "      <td>429063108400</td>\n",
              "    </tr>\n",
              "    <tr>\n",
              "      <th>36</th>\n",
              "      <td>기타유동금융부채</td>\n",
              "      <td>4995114000</td>\n",
              "      <td>2051114005</td>\n",
              "      <td>1805783602</td>\n",
              "    </tr>\n",
              "    <tr>\n",
              "      <th>37</th>\n",
              "      <td>미지급법인세</td>\n",
              "      <td>55517525169</td>\n",
              "      <td>49822909677</td>\n",
              "      <td>38118923770</td>\n",
              "    </tr>\n",
              "    <tr>\n",
              "      <th>38</th>\n",
              "      <td>파생상품부채</td>\n",
              "      <td>0</td>\n",
              "      <td>0</td>\n",
              "      <td>5871210000</td>\n",
              "    </tr>\n",
              "    <tr>\n",
              "      <th>39</th>\n",
              "      <td>단기리스부채</td>\n",
              "      <td>101724244061</td>\n",
              "      <td>37613103713</td>\n",
              "      <td>31494694565</td>\n",
              "    </tr>\n",
              "    <tr>\n",
              "      <th>40</th>\n",
              "      <td>기타유동부채</td>\n",
              "      <td>1301231364758</td>\n",
              "      <td>238437738895</td>\n",
              "      <td>177946542544</td>\n",
              "    </tr>\n",
              "    <tr>\n",
              "      <th>41</th>\n",
              "      <td>비유동부채</td>\n",
              "      <td>1171298508308</td>\n",
              "      <td>598480116822</td>\n",
              "      <td>255099527270</td>\n",
              "    </tr>\n",
              "    <tr>\n",
              "      <th>42</th>\n",
              "      <td>비유동매입채무 및 기타채무</td>\n",
              "      <td>16682848737</td>\n",
              "      <td>4590817184</td>\n",
              "      <td>2786603839</td>\n",
              "    </tr>\n",
              "    <tr>\n",
              "      <th>43</th>\n",
              "      <td>장기차입금</td>\n",
              "      <td>0</td>\n",
              "      <td>321761482011</td>\n",
              "      <td>39965367209</td>\n",
              "    </tr>\n",
              "    <tr>\n",
              "      <th>44</th>\n",
              "      <td>비유동충당부채</td>\n",
              "      <td>40680511420</td>\n",
              "      <td>10333202884</td>\n",
              "      <td>9461197949</td>\n",
              "    </tr>\n",
              "    <tr>\n",
              "      <th>45</th>\n",
              "      <td>장기리스부채</td>\n",
              "      <td>1076109126631</td>\n",
              "      <td>121899752206</td>\n",
              "      <td>88642651025</td>\n",
              "    </tr>\n",
              "    <tr>\n",
              "      <th>46</th>\n",
              "      <td>기타장기종업원급여부채</td>\n",
              "      <td>35656381133</td>\n",
              "      <td>27047368083</td>\n",
              "      <td>25384985949</td>\n",
              "    </tr>\n",
              "    <tr>\n",
              "      <th>47</th>\n",
              "      <td>이연법인세부채</td>\n",
              "      <td>0</td>\n",
              "      <td>108245067298</td>\n",
              "      <td>88039313455</td>\n",
              "    </tr>\n",
              "    <tr>\n",
              "      <th>48</th>\n",
              "      <td>기타비유동부채</td>\n",
              "      <td>2169640387</td>\n",
              "      <td>4602427156</td>\n",
              "      <td>819407844</td>\n",
              "    </tr>\n",
              "    <tr>\n",
              "      <th>49</th>\n",
              "      <td>부채총계</td>\n",
              "      <td>3470447600428</td>\n",
              "      <td>2020061399372</td>\n",
              "      <td>1626049788775</td>\n",
              "    </tr>\n",
              "    <tr>\n",
              "      <th>50</th>\n",
              "      <td>자본</td>\n",
              "      <td></td>\n",
              "      <td></td>\n",
              "      <td></td>\n",
              "    </tr>\n",
              "    <tr>\n",
              "      <th>51</th>\n",
              "      <td>자본금</td>\n",
              "      <td>44640599000</td>\n",
              "      <td>44300999000</td>\n",
              "      <td>43161318000</td>\n",
              "    </tr>\n",
              "    <tr>\n",
              "      <th>52</th>\n",
              "      <td>자본잉여금</td>\n",
              "      <td>5489187456902</td>\n",
              "      <td>4986863484685</td>\n",
              "      <td>4462249633278</td>\n",
              "    </tr>\n",
              "    <tr>\n",
              "      <th>53</th>\n",
              "      <td>자본조정</td>\n",
              "      <td>77070391402</td>\n",
              "      <td>18616904707</td>\n",
              "      <td>41292768578</td>\n",
              "    </tr>\n",
              "    <tr>\n",
              "      <th>54</th>\n",
              "      <td>기타포괄손익누계액</td>\n",
              "      <td>240486698823</td>\n",
              "      <td>66513984520</td>\n",
              "      <td>-2897079352</td>\n",
              "    </tr>\n",
              "    <tr>\n",
              "      <th>55</th>\n",
              "      <td>이익잉여금(결손금)</td>\n",
              "      <td>702819547879</td>\n",
              "      <td>209149712500</td>\n",
              "      <td>314504187531</td>\n",
              "    </tr>\n",
              "    <tr>\n",
              "      <th>56</th>\n",
              "      <td>자본총계</td>\n",
              "      <td>6554204694006</td>\n",
              "      <td>5325445085412</td>\n",
              "      <td>4858310828035</td>\n",
              "    </tr>\n",
              "    <tr>\n",
              "      <th>57</th>\n",
              "      <td>부채와자본총계</td>\n",
              "      <td>10024652294434</td>\n",
              "      <td>7345506484784</td>\n",
              "      <td>6484360616810</td>\n",
              "    </tr>\n",
              "  </tbody>\n",
              "</table>\n",
              "</div>\n",
              "      <button class=\"colab-df-convert\" onclick=\"convertToInteractive('df-8d731460-19d1-4ca0-96a0-5346f8db62f7')\"\n",
              "              title=\"Convert this dataframe to an interactive table.\"\n",
              "              style=\"display:none;\">\n",
              "        \n",
              "  <svg xmlns=\"http://www.w3.org/2000/svg\" height=\"24px\"viewBox=\"0 0 24 24\"\n",
              "       width=\"24px\">\n",
              "    <path d=\"M0 0h24v24H0V0z\" fill=\"none\"/>\n",
              "    <path d=\"M18.56 5.44l.94 2.06.94-2.06 2.06-.94-2.06-.94-.94-2.06-.94 2.06-2.06.94zm-11 1L8.5 8.5l.94-2.06 2.06-.94-2.06-.94L8.5 2.5l-.94 2.06-2.06.94zm10 10l.94 2.06.94-2.06 2.06-.94-2.06-.94-.94-2.06-.94 2.06-2.06.94z\"/><path d=\"M17.41 7.96l-1.37-1.37c-.4-.4-.92-.59-1.43-.59-.52 0-1.04.2-1.43.59L10.3 9.45l-7.72 7.72c-.78.78-.78 2.05 0 2.83L4 21.41c.39.39.9.59 1.41.59.51 0 1.02-.2 1.41-.59l7.78-7.78 2.81-2.81c.8-.78.8-2.07 0-2.86zM5.41 20L4 18.59l7.72-7.72 1.47 1.35L5.41 20z\"/>\n",
              "  </svg>\n",
              "      </button>\n",
              "      \n",
              "  <style>\n",
              "    .colab-df-container {\n",
              "      display:flex;\n",
              "      flex-wrap:wrap;\n",
              "      gap: 12px;\n",
              "    }\n",
              "\n",
              "    .colab-df-convert {\n",
              "      background-color: #E8F0FE;\n",
              "      border: none;\n",
              "      border-radius: 50%;\n",
              "      cursor: pointer;\n",
              "      display: none;\n",
              "      fill: #1967D2;\n",
              "      height: 32px;\n",
              "      padding: 0 0 0 0;\n",
              "      width: 32px;\n",
              "    }\n",
              "\n",
              "    .colab-df-convert:hover {\n",
              "      background-color: #E2EBFA;\n",
              "      box-shadow: 0px 1px 2px rgba(60, 64, 67, 0.3), 0px 1px 3px 1px rgba(60, 64, 67, 0.15);\n",
              "      fill: #174EA6;\n",
              "    }\n",
              "\n",
              "    [theme=dark] .colab-df-convert {\n",
              "      background-color: #3B4455;\n",
              "      fill: #D2E3FC;\n",
              "    }\n",
              "\n",
              "    [theme=dark] .colab-df-convert:hover {\n",
              "      background-color: #434B5C;\n",
              "      box-shadow: 0px 1px 3px 1px rgba(0, 0, 0, 0.15);\n",
              "      filter: drop-shadow(0px 1px 2px rgba(0, 0, 0, 0.3));\n",
              "      fill: #FFFFFF;\n",
              "    }\n",
              "  </style>\n",
              "\n",
              "      <script>\n",
              "        const buttonEl =\n",
              "          document.querySelector('#df-8d731460-19d1-4ca0-96a0-5346f8db62f7 button.colab-df-convert');\n",
              "        buttonEl.style.display =\n",
              "          google.colab.kernel.accessAllowed ? 'block' : 'none';\n",
              "\n",
              "        async function convertToInteractive(key) {\n",
              "          const element = document.querySelector('#df-8d731460-19d1-4ca0-96a0-5346f8db62f7');\n",
              "          const dataTable =\n",
              "            await google.colab.kernel.invokeFunction('convertToInteractive',\n",
              "                                                     [key], {});\n",
              "          if (!dataTable) return;\n",
              "\n",
              "          const docLinkHtml = 'Like what you see? Visit the ' +\n",
              "            '<a target=\"_blank\" href=https://colab.research.google.com/notebooks/data_table.ipynb>data table notebook</a>'\n",
              "            + ' to learn more about interactive tables.';\n",
              "          element.innerHTML = '';\n",
              "          dataTable['output_type'] = 'display_data';\n",
              "          await google.colab.output.renderOutput(dataTable, element);\n",
              "          const docLink = document.createElement('div');\n",
              "          docLink.innerHTML = docLinkHtml;\n",
              "          element.appendChild(docLink);\n",
              "        }\n",
              "      </script>\n",
              "    </div>\n",
              "  </div>\n",
              "  "
            ]
          },
          "metadata": {},
          "execution_count": 17
        }
      ]
    },
    {
      "cell_type": "code",
      "source": [
        "NewDF = df2['Unnamed: 0'][:5].values.tolist()+df2['Unnamed: 0'][6:].str.replace('    ', '').replace(',', '').replace('Ⅰ', '').replace('Ⅱ', '').replace('Ⅲ', '').replace('Ⅳ', '').replace('Ⅴ', '').replace('※', '').replace('@', '').replace('.', '').replace('\\t', '').replace('  ', '').replace(' ', '').values.tolist()"
      ],
      "metadata": {
        "id": "g6HDSKDowD3W"
      },
      "execution_count": null,
      "outputs": []
    },
    {
      "cell_type": "code",
      "source": [
        "df2"
      ],
      "metadata": {
        "colab": {
          "base_uri": "https://localhost:8080/",
          "height": 896
        },
        "id": "O9B_L3kMBizi",
        "outputId": "4375cc81-ea2b-4dac-cc4e-fe50e32bf80f"
      },
      "execution_count": null,
      "outputs": [
        {
          "output_type": "execute_result",
          "data": {
            "text/plain": [
              "                            Unnamed: 0     Unnamed: 1     Unnamed: 2  \\\n",
              "0                              포괄손익계산서            NaN            NaN   \n",
              "1   제 27 기 2021.01.01 부터 2021.12.31 까지            NaN            NaN   \n",
              "2   제 26 기 2020.01.01 부터 2020.12.31 까지            NaN            NaN   \n",
              "3   제 25 기 2019.01.01 부터 2019.12.31 까지            NaN            NaN   \n",
              "4                             (단위 : 원)            NaN            NaN   \n",
              "5                                              제 27 기         제 26 기   \n",
              "6                                 영업수익  2132915884804  1779194942006   \n",
              "7                                 영업비용  1730890630019  1479130449829   \n",
              "8                             영업이익(손실)   402025254785   300064492177   \n",
              "9                                 기타수익    60791399075    47553946693   \n",
              "10                                기타비용    35843565649   407293501258   \n",
              "11                                금융수익   228541511610    60093421952   \n",
              "12                                이자수익    12820189678     8039964049   \n",
              "13                              기타금융수익   215721321932    52053457903   \n",
              "14                                금융비용    46265725913    24019110306   \n",
              "15                    종속기업및관계기업투자 손상차손   -34556414532   -11491134087   \n",
              "16                     법인세비용차감전순이익(손실)   574692459376   -35091884829   \n",
              "17                               법인세비용    68071041544    82786933724   \n",
              "18                           당기순이익(손실)   506621417832  -117878818553   \n",
              "19                              기타포괄손익   173922941450    92348028682   \n",
              "20           후속적으로 당기손익으로 재분류될 수 없는 항목   173922941450    92348028682   \n",
              "21                      순확정급여부채의 재측정요소     -611152463     1310593402   \n",
              "22            기타포괄손익-공정가치 측정 지분상품 평가손익   174534093913    91037435280   \n",
              "23                               총포괄손익   680544359282   -25530789871   \n",
              "24                                주당이익                                 \n",
              "25                 기본주당이익(손실) (단위 : 원)           1172           -278   \n",
              "26                 희석주당이익(손실) (단위 : 원)           1147           -278   \n",
              "\n",
              "       Unnamed: 3  \n",
              "0             NaN  \n",
              "1             NaN  \n",
              "2             NaN  \n",
              "3             NaN  \n",
              "4             NaN  \n",
              "5          제 25 기  \n",
              "6   1513471072651  \n",
              "7   1317407148128  \n",
              "8    196063924523  \n",
              "9     10964194874  \n",
              "10   438146371624  \n",
              "11    54137000050  \n",
              "12    13962237560  \n",
              "13    40174762490  \n",
              "14    18938613896  \n",
              "15   -34709203884  \n",
              "16  -230629069957  \n",
              "17    29076622935  \n",
              "18  -259705692892  \n",
              "19     3529024838  \n",
              "20     3529024838  \n",
              "21    -2246614769  \n",
              "22     5775639607  \n",
              "23  -256176668054  \n",
              "24                 \n",
              "25           -652  \n",
              "26           -652  "
            ],
            "text/html": [
              "\n",
              "  <div id=\"df-6095c13f-03a1-4a8f-a786-4219645a2873\">\n",
              "    <div class=\"colab-df-container\">\n",
              "      <div>\n",
              "<style scoped>\n",
              "    .dataframe tbody tr th:only-of-type {\n",
              "        vertical-align: middle;\n",
              "    }\n",
              "\n",
              "    .dataframe tbody tr th {\n",
              "        vertical-align: top;\n",
              "    }\n",
              "\n",
              "    .dataframe thead th {\n",
              "        text-align: right;\n",
              "    }\n",
              "</style>\n",
              "<table border=\"1\" class=\"dataframe\">\n",
              "  <thead>\n",
              "    <tr style=\"text-align: right;\">\n",
              "      <th></th>\n",
              "      <th>Unnamed: 0</th>\n",
              "      <th>Unnamed: 1</th>\n",
              "      <th>Unnamed: 2</th>\n",
              "      <th>Unnamed: 3</th>\n",
              "    </tr>\n",
              "  </thead>\n",
              "  <tbody>\n",
              "    <tr>\n",
              "      <th>0</th>\n",
              "      <td>포괄손익계산서</td>\n",
              "      <td>NaN</td>\n",
              "      <td>NaN</td>\n",
              "      <td>NaN</td>\n",
              "    </tr>\n",
              "    <tr>\n",
              "      <th>1</th>\n",
              "      <td>제 27 기 2021.01.01 부터 2021.12.31 까지</td>\n",
              "      <td>NaN</td>\n",
              "      <td>NaN</td>\n",
              "      <td>NaN</td>\n",
              "    </tr>\n",
              "    <tr>\n",
              "      <th>2</th>\n",
              "      <td>제 26 기 2020.01.01 부터 2020.12.31 까지</td>\n",
              "      <td>NaN</td>\n",
              "      <td>NaN</td>\n",
              "      <td>NaN</td>\n",
              "    </tr>\n",
              "    <tr>\n",
              "      <th>3</th>\n",
              "      <td>제 25 기 2019.01.01 부터 2019.12.31 까지</td>\n",
              "      <td>NaN</td>\n",
              "      <td>NaN</td>\n",
              "      <td>NaN</td>\n",
              "    </tr>\n",
              "    <tr>\n",
              "      <th>4</th>\n",
              "      <td>(단위 : 원)</td>\n",
              "      <td>NaN</td>\n",
              "      <td>NaN</td>\n",
              "      <td>NaN</td>\n",
              "    </tr>\n",
              "    <tr>\n",
              "      <th>5</th>\n",
              "      <td></td>\n",
              "      <td>제 27 기</td>\n",
              "      <td>제 26 기</td>\n",
              "      <td>제 25 기</td>\n",
              "    </tr>\n",
              "    <tr>\n",
              "      <th>6</th>\n",
              "      <td>영업수익</td>\n",
              "      <td>2132915884804</td>\n",
              "      <td>1779194942006</td>\n",
              "      <td>1513471072651</td>\n",
              "    </tr>\n",
              "    <tr>\n",
              "      <th>7</th>\n",
              "      <td>영업비용</td>\n",
              "      <td>1730890630019</td>\n",
              "      <td>1479130449829</td>\n",
              "      <td>1317407148128</td>\n",
              "    </tr>\n",
              "    <tr>\n",
              "      <th>8</th>\n",
              "      <td>영업이익(손실)</td>\n",
              "      <td>402025254785</td>\n",
              "      <td>300064492177</td>\n",
              "      <td>196063924523</td>\n",
              "    </tr>\n",
              "    <tr>\n",
              "      <th>9</th>\n",
              "      <td>기타수익</td>\n",
              "      <td>60791399075</td>\n",
              "      <td>47553946693</td>\n",
              "      <td>10964194874</td>\n",
              "    </tr>\n",
              "    <tr>\n",
              "      <th>10</th>\n",
              "      <td>기타비용</td>\n",
              "      <td>35843565649</td>\n",
              "      <td>407293501258</td>\n",
              "      <td>438146371624</td>\n",
              "    </tr>\n",
              "    <tr>\n",
              "      <th>11</th>\n",
              "      <td>금융수익</td>\n",
              "      <td>228541511610</td>\n",
              "      <td>60093421952</td>\n",
              "      <td>54137000050</td>\n",
              "    </tr>\n",
              "    <tr>\n",
              "      <th>12</th>\n",
              "      <td>이자수익</td>\n",
              "      <td>12820189678</td>\n",
              "      <td>8039964049</td>\n",
              "      <td>13962237560</td>\n",
              "    </tr>\n",
              "    <tr>\n",
              "      <th>13</th>\n",
              "      <td>기타금융수익</td>\n",
              "      <td>215721321932</td>\n",
              "      <td>52053457903</td>\n",
              "      <td>40174762490</td>\n",
              "    </tr>\n",
              "    <tr>\n",
              "      <th>14</th>\n",
              "      <td>금융비용</td>\n",
              "      <td>46265725913</td>\n",
              "      <td>24019110306</td>\n",
              "      <td>18938613896</td>\n",
              "    </tr>\n",
              "    <tr>\n",
              "      <th>15</th>\n",
              "      <td>종속기업및관계기업투자 손상차손</td>\n",
              "      <td>-34556414532</td>\n",
              "      <td>-11491134087</td>\n",
              "      <td>-34709203884</td>\n",
              "    </tr>\n",
              "    <tr>\n",
              "      <th>16</th>\n",
              "      <td>법인세비용차감전순이익(손실)</td>\n",
              "      <td>574692459376</td>\n",
              "      <td>-35091884829</td>\n",
              "      <td>-230629069957</td>\n",
              "    </tr>\n",
              "    <tr>\n",
              "      <th>17</th>\n",
              "      <td>법인세비용</td>\n",
              "      <td>68071041544</td>\n",
              "      <td>82786933724</td>\n",
              "      <td>29076622935</td>\n",
              "    </tr>\n",
              "    <tr>\n",
              "      <th>18</th>\n",
              "      <td>당기순이익(손실)</td>\n",
              "      <td>506621417832</td>\n",
              "      <td>-117878818553</td>\n",
              "      <td>-259705692892</td>\n",
              "    </tr>\n",
              "    <tr>\n",
              "      <th>19</th>\n",
              "      <td>기타포괄손익</td>\n",
              "      <td>173922941450</td>\n",
              "      <td>92348028682</td>\n",
              "      <td>3529024838</td>\n",
              "    </tr>\n",
              "    <tr>\n",
              "      <th>20</th>\n",
              "      <td>후속적으로 당기손익으로 재분류될 수 없는 항목</td>\n",
              "      <td>173922941450</td>\n",
              "      <td>92348028682</td>\n",
              "      <td>3529024838</td>\n",
              "    </tr>\n",
              "    <tr>\n",
              "      <th>21</th>\n",
              "      <td>순확정급여부채의 재측정요소</td>\n",
              "      <td>-611152463</td>\n",
              "      <td>1310593402</td>\n",
              "      <td>-2246614769</td>\n",
              "    </tr>\n",
              "    <tr>\n",
              "      <th>22</th>\n",
              "      <td>기타포괄손익-공정가치 측정 지분상품 평가손익</td>\n",
              "      <td>174534093913</td>\n",
              "      <td>91037435280</td>\n",
              "      <td>5775639607</td>\n",
              "    </tr>\n",
              "    <tr>\n",
              "      <th>23</th>\n",
              "      <td>총포괄손익</td>\n",
              "      <td>680544359282</td>\n",
              "      <td>-25530789871</td>\n",
              "      <td>-256176668054</td>\n",
              "    </tr>\n",
              "    <tr>\n",
              "      <th>24</th>\n",
              "      <td>주당이익</td>\n",
              "      <td></td>\n",
              "      <td></td>\n",
              "      <td></td>\n",
              "    </tr>\n",
              "    <tr>\n",
              "      <th>25</th>\n",
              "      <td>기본주당이익(손실) (단위 : 원)</td>\n",
              "      <td>1172</td>\n",
              "      <td>-278</td>\n",
              "      <td>-652</td>\n",
              "    </tr>\n",
              "    <tr>\n",
              "      <th>26</th>\n",
              "      <td>희석주당이익(손실) (단위 : 원)</td>\n",
              "      <td>1147</td>\n",
              "      <td>-278</td>\n",
              "      <td>-652</td>\n",
              "    </tr>\n",
              "  </tbody>\n",
              "</table>\n",
              "</div>\n",
              "      <button class=\"colab-df-convert\" onclick=\"convertToInteractive('df-6095c13f-03a1-4a8f-a786-4219645a2873')\"\n",
              "              title=\"Convert this dataframe to an interactive table.\"\n",
              "              style=\"display:none;\">\n",
              "        \n",
              "  <svg xmlns=\"http://www.w3.org/2000/svg\" height=\"24px\"viewBox=\"0 0 24 24\"\n",
              "       width=\"24px\">\n",
              "    <path d=\"M0 0h24v24H0V0z\" fill=\"none\"/>\n",
              "    <path d=\"M18.56 5.44l.94 2.06.94-2.06 2.06-.94-2.06-.94-.94-2.06-.94 2.06-2.06.94zm-11 1L8.5 8.5l.94-2.06 2.06-.94-2.06-.94L8.5 2.5l-.94 2.06-2.06.94zm10 10l.94 2.06.94-2.06 2.06-.94-2.06-.94-.94-2.06-.94 2.06-2.06.94z\"/><path d=\"M17.41 7.96l-1.37-1.37c-.4-.4-.92-.59-1.43-.59-.52 0-1.04.2-1.43.59L10.3 9.45l-7.72 7.72c-.78.78-.78 2.05 0 2.83L4 21.41c.39.39.9.59 1.41.59.51 0 1.02-.2 1.41-.59l7.78-7.78 2.81-2.81c.8-.78.8-2.07 0-2.86zM5.41 20L4 18.59l7.72-7.72 1.47 1.35L5.41 20z\"/>\n",
              "  </svg>\n",
              "      </button>\n",
              "      \n",
              "  <style>\n",
              "    .colab-df-container {\n",
              "      display:flex;\n",
              "      flex-wrap:wrap;\n",
              "      gap: 12px;\n",
              "    }\n",
              "\n",
              "    .colab-df-convert {\n",
              "      background-color: #E8F0FE;\n",
              "      border: none;\n",
              "      border-radius: 50%;\n",
              "      cursor: pointer;\n",
              "      display: none;\n",
              "      fill: #1967D2;\n",
              "      height: 32px;\n",
              "      padding: 0 0 0 0;\n",
              "      width: 32px;\n",
              "    }\n",
              "\n",
              "    .colab-df-convert:hover {\n",
              "      background-color: #E2EBFA;\n",
              "      box-shadow: 0px 1px 2px rgba(60, 64, 67, 0.3), 0px 1px 3px 1px rgba(60, 64, 67, 0.15);\n",
              "      fill: #174EA6;\n",
              "    }\n",
              "\n",
              "    [theme=dark] .colab-df-convert {\n",
              "      background-color: #3B4455;\n",
              "      fill: #D2E3FC;\n",
              "    }\n",
              "\n",
              "    [theme=dark] .colab-df-convert:hover {\n",
              "      background-color: #434B5C;\n",
              "      box-shadow: 0px 1px 3px 1px rgba(0, 0, 0, 0.15);\n",
              "      filter: drop-shadow(0px 1px 2px rgba(0, 0, 0, 0.3));\n",
              "      fill: #FFFFFF;\n",
              "    }\n",
              "  </style>\n",
              "\n",
              "      <script>\n",
              "        const buttonEl =\n",
              "          document.querySelector('#df-6095c13f-03a1-4a8f-a786-4219645a2873 button.colab-df-convert');\n",
              "        buttonEl.style.display =\n",
              "          google.colab.kernel.accessAllowed ? 'block' : 'none';\n",
              "\n",
              "        async function convertToInteractive(key) {\n",
              "          const element = document.querySelector('#df-6095c13f-03a1-4a8f-a786-4219645a2873');\n",
              "          const dataTable =\n",
              "            await google.colab.kernel.invokeFunction('convertToInteractive',\n",
              "                                                     [key], {});\n",
              "          if (!dataTable) return;\n",
              "\n",
              "          const docLinkHtml = 'Like what you see? Visit the ' +\n",
              "            '<a target=\"_blank\" href=https://colab.research.google.com/notebooks/data_table.ipynb>data table notebook</a>'\n",
              "            + ' to learn more about interactive tables.';\n",
              "          element.innerHTML = '';\n",
              "          dataTable['output_type'] = 'display_data';\n",
              "          await google.colab.output.renderOutput(dataTable, element);\n",
              "          const docLink = document.createElement('div');\n",
              "          docLink.innerHTML = docLinkHtml;\n",
              "          element.appendChild(docLink);\n",
              "        }\n",
              "      </script>\n",
              "    </div>\n",
              "  </div>\n",
              "  "
            ]
          },
          "metadata": {},
          "execution_count": 49
        }
      ]
    },
    {
      "cell_type": "code",
      "source": [
        "NewDF"
      ],
      "metadata": {
        "colab": {
          "base_uri": "https://localhost:8080/"
        },
        "id": "_DmPPxKHJya5",
        "outputId": "63fde7fd-e6ab-49d5-90bb-e6f1019d148a"
      },
      "execution_count": null,
      "outputs": [
        {
          "output_type": "execute_result",
          "data": {
            "text/plain": [
              "['포괄손익계산서',\n",
              " '제 27 기 2021.01.01 부터 2021.12.31 까지',\n",
              " '제 26 기 2020.01.01 부터 2020.12.31 까지',\n",
              " '제 25 기 2019.01.01 부터 2019.12.31 까지',\n",
              " '(단위 : 원)',\n",
              " '영업수익',\n",
              " '영업비용',\n",
              " '영업이익(손실)',\n",
              " '기타수익',\n",
              " '기타비용',\n",
              " '금융수익',\n",
              " '이자수익',\n",
              " '기타금융수익',\n",
              " '금융비용',\n",
              " '종속기업및관계기업투자 손상차손',\n",
              " '법인세비용차감전순이익(손실)',\n",
              " '법인세비용',\n",
              " '당기순이익(손실)',\n",
              " '기타포괄손익',\n",
              " '후속적으로 당기손익으로 재분류될 수 없는 항목',\n",
              " '순확정급여부채의 재측정요소',\n",
              " '기타포괄손익-공정가치 측정 지분상품 평가손익',\n",
              " '총포괄손익',\n",
              " '주당이익',\n",
              " '기본주당이익(손실) (단위 : 원)',\n",
              " '희석주당이익(손실) (단위 : 원)']"
            ]
          },
          "metadata": {},
          "execution_count": 52
        }
      ]
    },
    {
      "cell_type": "code",
      "source": [
        "baseDF = [ '유동자산',\n",
        " '현금및현금성자산',\n",
        " '단기금융상품',\n",
        " '당기손익-공정가치 측정 금융자산',\n",
        " '파생상품자산',\n",
        " '매출채권',\n",
        " '단기금융리스채권',\n",
        " '기타유동금융자산',\n",
        " '재고자산',\n",
        " '기타유동자산',\n",
        " '비유동자산',\n",
        " '장기금융상품',\n",
        " '당기손익-공정가치 측정 금융자산',\n",
        " '기타포괄손익-공정가치 측정 금융자산',\n",
        " '종속기업, 관계기업 및 공동기업투자',\n",
        " '장기금융리스채권',\n",
        " '기타비유동금융자산',\n",
        " '유형자산',\n",
        " '무형자산',\n",
        " '사용권자산',\n",
        " '투자부동산',\n",
        " '퇴직연금운용자산',\n",
        " '이연법인세자산',\n",
        " '기타비유동자산',\n",
        " '자산총계',\n",
        " '유동부채',\n",
        " '매입채무 및 기타채무',\n",
        " '단기차입금',\n",
        " '기타유동금융부채',\n",
        " '미지급법인세',\n",
        " '파생상품부채',\n",
        " '단기리스부채',\n",
        " '기타유동부채',\n",
        " '비유동부채',\n",
        " '비유동매입채무 및 기타채무',\n",
        " '장기차입금',\n",
        " '비유동충당부채',\n",
        " '장기리스부채',\n",
        " '기타장기종업원급여부채',\n",
        " '이연법인세부채',\n",
        " '기타비유동부채',\n",
        " '부채총계',\n",
        " '자본금',\n",
        " '자본잉여금',\n",
        " '자본조정',\n",
        " '기타포괄손익누계액',\n",
        " '이익잉여금',\n",
        " '자본총계',\n",
        " '부채와자본총계', '영업수익',\n",
        " '영업비용',\n",
        " '영업이익(손실)',\n",
        " '기타수익',\n",
        " '기타비용',\n",
        " '금융수익',\n",
        " '이자수익',\n",
        " '기타금융수익',\n",
        " '금융비용',\n",
        " '종속기업및관계기업투자 손상차손',\n",
        " '법인세비용차감전순이익(손실)',\n",
        " '법인세비용',\n",
        " '당기순이익(손실)',\n",
        " '기타포괄손익',\n",
        " '후속적으로 당기손익으로 재분류될 수 없는 항목',\n",
        " '순확정급여부채의 재측정요소',\n",
        " '기타포괄손익-공정가치 측정 지분상품 평가손익',\n",
        " '총포괄손익']"
      ],
      "metadata": {
        "id": "kvhgd4Fovdfu"
      },
      "execution_count": null,
      "outputs": []
    },
    {
      "cell_type": "code",
      "source": [],
      "metadata": {
        "id": "rXUnVk6FvdoB"
      },
      "execution_count": null,
      "outputs": []
    },
    {
      "cell_type": "code",
      "source": [],
      "metadata": {
        "id": "Gx36Fsibvdqm"
      },
      "execution_count": null,
      "outputs": []
    },
    {
      "cell_type": "code",
      "source": [],
      "metadata": {
        "id": "azNCtJsrvduB"
      },
      "execution_count": null,
      "outputs": []
    },
    {
      "cell_type": "markdown",
      "source": [
        "#엑셀 투 spreadsheet"
      ],
      "metadata": {
        "id": "3yNbPRe4a8sC"
      }
    },
    {
      "cell_type": "code",
      "source": [
        "wb = gc.open_by_key('1XojYNQxYjdqs66FKREt-j3ly-EZLFI5Js1hoeyK0jUg')"
      ],
      "metadata": {
        "id": "dR95cdyJjIZW"
      },
      "execution_count": null,
      "outputs": []
    },
    {
      "cell_type": "code",
      "source": [
        "sheet = wb.worksheet('재무상태표')\n",
        "data = sheet.get_all_values()"
      ],
      "metadata": {
        "id": "KyrVQVH6krIe"
      },
      "execution_count": null,
      "outputs": []
    },
    {
      "cell_type": "code",
      "source": [
        "characters = ['a''b''c''d''e''f''g''h''i''j''k''l''m''n''o''p''q''r''t''u''v''w''x''y''z']\n",
        "numside = df.shape[1] - 1\n",
        "numheight = df.shape[0] -1\n",
        "rangestr = 'a1:'+ str(characters[0][numside]) + str(numheight+1)\n",
        "print(rangestr)"
      ],
      "metadata": {
        "colab": {
          "base_uri": "https://localhost:8080/"
        },
        "id": "IlwZe6pVsbvI",
        "outputId": "c42295a3-a6de-446a-8147-23fcc2ec4940"
      },
      "execution_count": null,
      "outputs": [
        {
          "output_type": "stream",
          "name": "stdout",
          "text": [
            "a1:d58\n"
          ]
        }
      ]
    },
    {
      "cell_type": "code",
      "source": [
        "cell_list = sheet.range(rangestr)"
      ],
      "metadata": {
        "id": "1xPJ006DscOQ"
      },
      "execution_count": null,
      "outputs": []
    },
    {
      "cell_type": "code",
      "source": [
        "k=0\n",
        "difrow = 0\n",
        "for cell in cell_list:\n",
        "  divider = k % (df.shape[1]) \n",
        "  if difrow == 0:\n",
        "    cell.value = df.columns[divider]\n",
        "  if difrow != 0:\n",
        "    cell.value = str(df[df.columns[divider]][difrow])\n",
        "  if divider == df.shape[1] - 1:\n",
        "    difrow += 1\n",
        "  k += 1"
      ],
      "metadata": {
        "id": "439Cg5ZwumHf"
      },
      "execution_count": null,
      "outputs": []
    },
    {
      "cell_type": "code",
      "source": [
        "sheet.update_cells(cell_list)"
      ],
      "metadata": {
        "colab": {
          "base_uri": "https://localhost:8080/"
        },
        "id": "YbIoWJ31scTC",
        "outputId": "05dc65a4-1ee0-4469-b444-a8095834fdf5"
      },
      "execution_count": null,
      "outputs": [
        {
          "output_type": "execute_result",
          "data": {
            "text/plain": [
              "{'spreadsheetId': '1XojYNQxYjdqs66FKREt-j3ly-EZLFI5Js1hoeyK0jUg',\n",
              " 'updatedCells': 232,\n",
              " 'updatedColumns': 4,\n",
              " 'updatedRange': \"'재무상태표'!A1:D58\",\n",
              " 'updatedRows': 58}"
            ]
          },
          "metadata": {},
          "execution_count": 23
        }
      ]
    }
  ]
}